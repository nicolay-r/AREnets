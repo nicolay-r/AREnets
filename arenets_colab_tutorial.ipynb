{
  "nbformat": 4,
  "nbformat_minor": 0,
  "metadata": {
    "colab": {
      "provenance": [],
      "authorship_tag": "ABX9TyN8gT66lPkb2G9ngmZgwWjK",
      "include_colab_link": true
    },
    "kernelspec": {
      "name": "python3",
      "display_name": "Python 3"
    },
    "language_info": {
      "name": "python"
    },
    "gpuClass": "standard",
    "accelerator": "GPU"
  },
  "cells": [
    {
      "cell_type": "markdown",
      "metadata": {
        "id": "view-in-github",
        "colab_type": "text"
      },
      "source": [
        "<a href=\"https://colab.research.google.com/github/nicolay-r/AREnets/blob/master/arenets_colab_tutorial.ipynb\" target=\"_parent\"><img src=\"https://colab.research.google.com/assets/colab-badge.svg\" alt=\"Open In Colab\"/></a>"
      ]
    },
    {
      "cell_type": "markdown",
      "source": [
        "## Setup Python 3.6.9 Environment\n"
      ],
      "metadata": {
        "id": "GFtrYfHLn9Gn"
      }
    },
    {
      "cell_type": "code",
      "source": [
        "!sudo update-alternatives --config python3"
      ],
      "metadata": {
        "id": "X1xBsoiNyPBu"
      },
      "execution_count": null,
      "outputs": []
    },
    {
      "cell_type": "code",
      "source": [
        "!wget https://bootstrap.pypa.io/pip/3.6/get-pip.py\n",
        "!python get-pip.py"
      ],
      "metadata": {
        "id": "OJ0LVVh60Ej2"
      },
      "execution_count": null,
      "outputs": []
    },
    {
      "cell_type": "code",
      "execution_count": null,
      "metadata": {
        "id": "fCNEJNTr1JzN"
      },
      "outputs": [],
      "source": [
        "!sudo pip uninstall arenets\n",
        "!sudo pip install git+https://github.com/nicolay-r/AREnets@master"
      ]
    },
    {
      "cell_type": "markdown",
      "source": [
        "## Download the requred data"
      ],
      "metadata": {
        "id": "ZzIIjAUslZbF"
      }
    },
    {
      "cell_type": "code",
      "source": [
        "!wget -O data.tar.gz https://www.dropbox.com/s/rsq1wen37z09vqt/arenets-rus-data.tar.gz?dl=1\n",
        "!mkdir -p \"_data\"\n",
        "!mv data.tar.gz \"_data\"\n",
        "!cd \"_data\" && tar -xvf data.tar.gz"
      ],
      "metadata": {
        "id": "swF39WhCjnH0"
      },
      "execution_count": null,
      "outputs": []
    },
    {
      "cell_type": "markdown",
      "source": [
        "## Training"
      ],
      "metadata": {
        "id": "8pL6nnKeleez"
      }
    },
    {
      "cell_type": "code",
      "source": [
        "%%python\n",
        "# NOTE: colab specific, disable tensorflow eager mode\n",
        "import tensorflow as tf\n",
        "tf.disable_eager_execution()\n",
        "\n",
        "from arenets.quickstart.train import train\n",
        "from arenets.enum_name_types import ModelNames\n",
        "\n",
        "train(input_data_dir=\"_data\", \n",
        "      labels_count=3, \n",
        "      model_name=ModelNames.CNN, \n",
        "      epochs_count=10, \n",
        "      train_acc_limit=1.0)"
      ],
      "metadata": {
        "id": "WXfZCFToPrSZ"
      },
      "execution_count": null,
      "outputs": []
    },
    {
      "cell_type": "markdown",
      "source": [
        "## Predict"
      ],
      "metadata": {
        "id": "jwPyLMzPmZlX"
      }
    },
    {
      "cell_type": "code",
      "source": [
        "%%python\n",
        "# NOTE: colab specific, disable tensorflow eager mode\n",
        "import tensorflow as tf\n",
        "tf.disable_eager_execution()\n",
        "\n",
        "from arenets.quickstart.predict import predict\n",
        "from arenets.arekit.common.data_type import DataType\n",
        "from arenets.enum_name_types import ModelNames\n",
        "\n",
        "predict(input_data_dir=\"_data\",\n",
        "        output_dir=\"_out\", \n",
        "        labels_count=3, \n",
        "        model_name=ModelNames.CNN, \n",
        "        data_type=DataType.Test)"
      ],
      "metadata": {
        "id": "l-Qtc6gqmckI"
      },
      "execution_count": null,
      "outputs": []
    }
  ]
}