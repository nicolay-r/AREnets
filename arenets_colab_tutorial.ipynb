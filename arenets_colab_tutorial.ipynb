{
  "nbformat": 4,
  "nbformat_minor": 0,
  "metadata": {
    "colab": {
      "provenance": [],
      "authorship_tag": "ABX9TyPu0pDvDXrS6U4w8AWa6EYw",
      "include_colab_link": true
    },
    "kernelspec": {
      "name": "python3",
      "display_name": "Python 3"
    },
    "language_info": {
      "name": "python"
    },
    "gpuClass": "standard",
    "accelerator": "GPU"
  },
  "cells": [
    {
      "cell_type": "markdown",
      "metadata": {
        "id": "view-in-github",
        "colab_type": "text"
      },
      "source": [
        "<a href=\"https://colab.research.google.com/github/nicolay-r/AREnets/blob/master/arenets_colab_tutorial.ipynb\" target=\"_parent\"><img src=\"https://colab.research.google.com/assets/colab-badge.svg\" alt=\"Open In Colab\"/></a>"
      ]
    },
    {
      "cell_type": "markdown",
      "source": [
        "# AREnets colab quick start tutorial\n",
        "\n",
        "## Setup Python 3.6.9 Environment\n",
        "In this section we setup `python-3.6` requireed by tensorflow version `1.14.0`"
      ],
      "metadata": {
        "id": "GFtrYfHLn9Gn"
      }
    },
    {
      "cell_type": "code",
      "source": [
        "!sudo update-alternatives --config python3"
      ],
      "metadata": {
        "id": "X1xBsoiNyPBu",
        "colab": {
          "base_uri": "https://localhost:8080/"
        },
        "outputId": "7acb9739-3102-49ee-abc4-ef3a2df4feb6"
      },
      "execution_count": 1,
      "outputs": [
        {
          "output_type": "stream",
          "name": "stdout",
          "text": [
            "There are 2 choices for the alternative python3 (providing /usr/bin/python3).\n",
            "\n",
            "  Selection    Path                Priority   Status\n",
            "------------------------------------------------------------\n",
            "* 0            /usr/bin/python3.8   2         auto mode\n",
            "  1            /usr/bin/python3.6   1         manual mode\n",
            "  2            /usr/bin/python3.8   2         manual mode\n",
            "\n",
            "Press <enter> to keep the current choice[*], or type selection number: 1\n",
            "update-alternatives: using /usr/bin/python3.6 to provide /usr/bin/python3 (python3) in manual mode\n"
          ]
        }
      ]
    },
    {
      "cell_type": "code",
      "source": [
        "!wget https://bootstrap.pypa.io/pip/3.6/get-pip.py\n",
        "!sudo python get-pip.py"
      ],
      "metadata": {
        "id": "OJ0LVVh60Ej2",
        "outputId": "e9505af5-c301-46ab-9a9f-ee53f027aea9",
        "colab": {
          "base_uri": "https://localhost:8080/"
        }
      },
      "execution_count": 2,
      "outputs": [
        {
          "output_type": "stream",
          "name": "stdout",
          "text": [
            "--2023-01-17 12:59:49--  https://bootstrap.pypa.io/pip/3.6/get-pip.py\n",
            "Resolving bootstrap.pypa.io (bootstrap.pypa.io)... 151.101.0.175, 151.101.64.175, 151.101.128.175, ...\n",
            "Connecting to bootstrap.pypa.io (bootstrap.pypa.io)|151.101.0.175|:443... connected.\n",
            "HTTP request sent, awaiting response... 200 OK\n",
            "Length: 2159061 (2.1M) [text/x-python]\n",
            "Saving to: ‘get-pip.py’\n",
            "\n",
            "\rget-pip.py            0%[                    ]       0  --.-KB/s               \rget-pip.py          100%[===================>]   2.06M  --.-KB/s    in 0.008s  \n",
            "\n",
            "2023-01-17 12:59:49 (255 MB/s) - ‘get-pip.py’ saved [2159061/2159061]\n",
            "\n",
            "Looking in indexes: https://pypi.org/simple, https://us-python.pkg.dev/colab-wheels/public/simple/\n",
            "Collecting pip<22.0\n",
            "  Downloading pip-21.3.1-py3-none-any.whl (1.7 MB)\n",
            "     |████████████████████████████████| 1.7 MB 26.8 MB/s            \n",
            "\u001b[?25hCollecting setuptools\n",
            "  Downloading setuptools-59.6.0-py3-none-any.whl (952 kB)\n",
            "     |████████████████████████████████| 952 kB 75.9 MB/s            \n",
            "\u001b[?25hCollecting wheel\n",
            "  Downloading wheel-0.37.1-py2.py3-none-any.whl (35 kB)\n",
            "Installing collected packages: wheel, setuptools, pip\n",
            "Successfully installed pip-21.3.1 setuptools-59.6.0 wheel-0.37.1\n",
            "\u001b[33mWARNING: Running pip as the 'root' user can result in broken permissions and conflicting behaviour with the system package manager. It is recommended to use a virtual environment instead: https://pip.pypa.io/warnings/venv\u001b[0m\n"
          ]
        }
      ]
    },
    {
      "cell_type": "code",
      "execution_count": 20,
      "metadata": {
        "id": "fCNEJNTr1JzN",
        "outputId": "403e7de3-ea3e-40fd-d811-4af1eeeb05dd",
        "colab": {
          "base_uri": "https://localhost:8080/"
        }
      },
      "outputs": [
        {
          "output_type": "stream",
          "name": "stdout",
          "text": [
            "Found existing installation: arenets 0.23.1\n",
            "Uninstalling arenets-0.23.1:\n",
            "  Would remove:\n",
            "    /usr/local/lib/python3.6/dist-packages/arenets-0.23.1.dist-info/*\n",
            "    /usr/local/lib/python3.6/dist-packages/arenets/*\n",
            "    /usr/local/lib/python3.6/dist-packages/tests/*\n",
            "Proceed (Y/n)? Y\n",
            "  Successfully uninstalled arenets-0.23.1\n",
            "\u001b[33mWARNING: Running pip as the 'root' user can result in broken permissions and conflicting behaviour with the system package manager. It is recommended to use a virtual environment instead: https://pip.pypa.io/warnings/venv\u001b[0m\n",
            "Looking in indexes: https://pypi.org/simple, https://us-python.pkg.dev/colab-wheels/public/simple/\n",
            "Collecting git+https://github.com/nicolay-r/AREnets@0.23.1\n",
            "  Cloning https://github.com/nicolay-r/AREnets (to revision 0.23.1) to /tmp/pip-req-build-gajwtxjd\n",
            "  Running command git clone --filter=blob:none -q https://github.com/nicolay-r/AREnets /tmp/pip-req-build-gajwtxjd\n",
            "  Running command git checkout -b 0.23.1 --track origin/0.23.1\n",
            "  Switched to a new branch '0.23.1'\n",
            "  Branch '0.23.1' set up to track remote branch '0.23.1' from 'origin'.\n",
            "  Resolved https://github.com/nicolay-r/AREnets to commit 5aaff2cd5717d7c25a0a093931075be848ed60ec\n",
            "  Preparing metadata (setup.py) ... \u001b[?25l\u001b[?25hdone\n",
            "Requirement already satisfied: tqdm==4.41.1 in /usr/local/lib/python3.6/dist-packages (from arenets==0.23.1) (4.41.1)\n",
            "Requirement already satisfied: tensorflow-gpu==1.14.0 in /usr/local/lib/python3.6/dist-packages (from arenets==0.23.1) (1.14.0)\n",
            "Requirement already satisfied: google-pasta>=0.1.6 in /usr/local/lib/python3.6/dist-packages (from tensorflow-gpu==1.14.0->arenets==0.23.1) (0.2.0)\n",
            "Requirement already satisfied: tensorflow-estimator<1.15.0rc0,>=1.14.0rc0 in /usr/local/lib/python3.6/dist-packages (from tensorflow-gpu==1.14.0->arenets==0.23.1) (1.14.0)\n",
            "Requirement already satisfied: keras-applications>=1.0.6 in /usr/local/lib/python3.6/dist-packages (from tensorflow-gpu==1.14.0->arenets==0.23.1) (1.0.8)\n",
            "Requirement already satisfied: protobuf>=3.6.1 in /usr/local/lib/python3.6/dist-packages (from tensorflow-gpu==1.14.0->arenets==0.23.1) (3.19.6)\n",
            "Requirement already satisfied: gast>=0.2.0 in /usr/local/lib/python3.6/dist-packages (from tensorflow-gpu==1.14.0->arenets==0.23.1) (0.5.3)\n",
            "Requirement already satisfied: keras-preprocessing>=1.0.5 in /usr/local/lib/python3.6/dist-packages (from tensorflow-gpu==1.14.0->arenets==0.23.1) (1.1.2)\n",
            "Requirement already satisfied: astor>=0.6.0 in /usr/local/lib/python3.6/dist-packages (from tensorflow-gpu==1.14.0->arenets==0.23.1) (0.8.1)\n",
            "Requirement already satisfied: numpy<2.0,>=1.14.5 in /usr/local/lib/python3.6/dist-packages (from tensorflow-gpu==1.14.0->arenets==0.23.1) (1.19.5)\n",
            "Requirement already satisfied: wrapt>=1.11.1 in /usr/local/lib/python3.6/dist-packages (from tensorflow-gpu==1.14.0->arenets==0.23.1) (1.14.1)\n",
            "Requirement already satisfied: termcolor>=1.1.0 in /usr/local/lib/python3.6/dist-packages (from tensorflow-gpu==1.14.0->arenets==0.23.1) (1.1.0)\n",
            "Requirement already satisfied: grpcio>=1.8.6 in /usr/local/lib/python3.6/dist-packages (from tensorflow-gpu==1.14.0->arenets==0.23.1) (1.48.2)\n",
            "Requirement already satisfied: absl-py>=0.7.0 in /usr/local/lib/python3.6/dist-packages (from tensorflow-gpu==1.14.0->arenets==0.23.1) (1.4.0)\n",
            "Requirement already satisfied: wheel>=0.26 in /usr/local/lib/python3.6/dist-packages (from tensorflow-gpu==1.14.0->arenets==0.23.1) (0.37.1)\n",
            "Requirement already satisfied: six>=1.10.0 in /usr/local/lib/python3.6/dist-packages (from tensorflow-gpu==1.14.0->arenets==0.23.1) (1.16.0)\n",
            "Requirement already satisfied: tensorboard<1.15.0,>=1.14.0 in /usr/local/lib/python3.6/dist-packages (from tensorflow-gpu==1.14.0->arenets==0.23.1) (1.14.0)\n",
            "Requirement already satisfied: h5py in /usr/local/lib/python3.6/dist-packages (from keras-applications>=1.0.6->tensorflow-gpu==1.14.0->arenets==0.23.1) (3.1.0)\n",
            "Requirement already satisfied: setuptools>=41.0.0 in /usr/local/lib/python3.6/dist-packages (from tensorboard<1.15.0,>=1.14.0->tensorflow-gpu==1.14.0->arenets==0.23.1) (59.6.0)\n",
            "Requirement already satisfied: werkzeug>=0.11.15 in /usr/local/lib/python3.6/dist-packages (from tensorboard<1.15.0,>=1.14.0->tensorflow-gpu==1.14.0->arenets==0.23.1) (2.0.3)\n",
            "Requirement already satisfied: markdown>=2.6.8 in /usr/local/lib/python3.6/dist-packages (from tensorboard<1.15.0,>=1.14.0->tensorflow-gpu==1.14.0->arenets==0.23.1) (3.3.7)\n",
            "Requirement already satisfied: importlib-metadata>=4.4 in /usr/local/lib/python3.6/dist-packages (from markdown>=2.6.8->tensorboard<1.15.0,>=1.14.0->tensorflow-gpu==1.14.0->arenets==0.23.1) (4.8.3)\n",
            "Requirement already satisfied: dataclasses in /usr/local/lib/python3.6/dist-packages (from werkzeug>=0.11.15->tensorboard<1.15.0,>=1.14.0->tensorflow-gpu==1.14.0->arenets==0.23.1) (0.8)\n",
            "Requirement already satisfied: cached-property in /usr/local/lib/python3.6/dist-packages (from h5py->keras-applications>=1.0.6->tensorflow-gpu==1.14.0->arenets==0.23.1) (1.5.2)\n",
            "Requirement already satisfied: typing-extensions>=3.6.4 in /usr/local/lib/python3.6/dist-packages (from importlib-metadata>=4.4->markdown>=2.6.8->tensorboard<1.15.0,>=1.14.0->tensorflow-gpu==1.14.0->arenets==0.23.1) (4.1.1)\n",
            "Requirement already satisfied: zipp>=0.5 in /usr/local/lib/python3.6/dist-packages (from importlib-metadata>=4.4->markdown>=2.6.8->tensorboard<1.15.0,>=1.14.0->tensorflow-gpu==1.14.0->arenets==0.23.1) (3.6.0)\n",
            "Building wheels for collected packages: arenets\n",
            "  Building wheel for arenets (setup.py) ... \u001b[?25l\u001b[?25hdone\n",
            "  Created wheel for arenets: filename=arenets-0.23.1-py3-none-any.whl size=149134 sha256=94836eca5e3ddf6fac40cb339b9016853f2d5fc1e9d9c0ed1eee7e65460209a7\n",
            "  Stored in directory: /tmp/pip-ephem-wheel-cache-8nhmou0l/wheels/38/ef/b0/cf3add471ffdb62cd411590cb579c77e150008cf7f00aa58e1\n",
            "Successfully built arenets\n",
            "Installing collected packages: arenets\n",
            "Successfully installed arenets-0.23.1\n",
            "\u001b[33mWARNING: Running pip as the 'root' user can result in broken permissions and conflicting behaviour with the system package manager. It is recommended to use a virtual environment instead: https://pip.pypa.io/warnings/venv\u001b[0m\n"
          ]
        }
      ],
      "source": [
        "!sudo pip uninstall arenets\n",
        "!sudo pip install git+https://github.com/nicolay-r/AREnets@0.23.1"
      ]
    },
    {
      "cell_type": "markdown",
      "source": [
        "## Download the code\n"
      ],
      "metadata": {
        "id": "ZzIIjAUslZbF"
      }
    },
    {
      "cell_type": "code",
      "source": [
        "%cd \"/content\"\n",
        "# clear prior local versions\n",
        "!rm ./*.py*\n",
        "!wget https://raw.githubusercontent.com/nicolay-r/AREnets/0.23.1/tutorials/nn_config.py\n",
        "!wget https://raw.githubusercontent.com/nicolay-r/AREnets/0.23.1/tutorials/predict.py\n",
        "!wget https://raw.githubusercontent.com/nicolay-r/AREnets/0.23.1/tutorials/train.py"
      ],
      "metadata": {
        "id": "3Tf9DjBQziNp",
        "outputId": "279cb4e3-09a3-4cbe-d299-83ddc2dee188",
        "colab": {
          "base_uri": "https://localhost:8080/"
        }
      },
      "execution_count": 15,
      "outputs": [
        {
          "output_type": "stream",
          "name": "stdout",
          "text": [
            "/content\n",
            "--2023-01-17 13:45:23--  https://raw.githubusercontent.com/nicolay-r/AREnets/0.23.1/tutorials/nn_config.py\n",
            "Resolving raw.githubusercontent.com (raw.githubusercontent.com)... 185.199.108.133, 185.199.109.133, 185.199.110.133, ...\n",
            "Connecting to raw.githubusercontent.com (raw.githubusercontent.com)|185.199.108.133|:443... connected.\n",
            "HTTP request sent, awaiting response... 200 OK\n",
            "Length: 521 [text/plain]\n",
            "Saving to: ‘nn_config.py’\n",
            "\n",
            "nn_config.py        100%[===================>]     521  --.-KB/s    in 0s      \n",
            "\n",
            "2023-01-17 13:45:24 (24.2 MB/s) - ‘nn_config.py’ saved [521/521]\n",
            "\n",
            "--2023-01-17 13:45:24--  https://raw.githubusercontent.com/nicolay-r/AREnets/0.23.1/tutorials/predict.py\n",
            "Resolving raw.githubusercontent.com (raw.githubusercontent.com)... 185.199.108.133, 185.199.109.133, 185.199.110.133, ...\n",
            "Connecting to raw.githubusercontent.com (raw.githubusercontent.com)|185.199.108.133|:443... connected.\n",
            "HTTP request sent, awaiting response... 200 OK\n",
            "Length: 1201 (1.2K) [text/plain]\n",
            "Saving to: ‘predict.py’\n",
            "\n",
            "predict.py          100%[===================>]   1.17K  --.-KB/s    in 0s      \n",
            "\n",
            "2023-01-17 13:45:24 (69.0 MB/s) - ‘predict.py’ saved [1201/1201]\n",
            "\n",
            "--2023-01-17 13:45:24--  https://raw.githubusercontent.com/nicolay-r/AREnets/0.23.1/tutorials/train.py\n",
            "Resolving raw.githubusercontent.com (raw.githubusercontent.com)... 185.199.108.133, 185.199.109.133, 185.199.110.133, ...\n",
            "Connecting to raw.githubusercontent.com (raw.githubusercontent.com)|185.199.108.133|:443... connected.\n",
            "HTTP request sent, awaiting response... 200 OK\n",
            "Length: 1538 (1.5K) [text/plain]\n",
            "Saving to: ‘train.py’\n",
            "\n",
            "train.py            100%[===================>]   1.50K  --.-KB/s    in 0s      \n",
            "\n",
            "2023-01-17 13:45:25 (25.5 MB/s) - ‘train.py’ saved [1538/1538]\n",
            "\n"
          ]
        }
      ]
    },
    {
      "cell_type": "markdown",
      "source": [
        "## Download input samples"
      ],
      "metadata": {
        "id": "5DFxruKEn9fs"
      }
    },
    {
      "cell_type": "markdown",
      "source": [
        "Let's create folder for the data resources ..."
      ],
      "metadata": {
        "id": "f3GO9ztuBqUM"
      }
    },
    {
      "cell_type": "code",
      "source": [
        "!mkdir \"/content/_data\""
      ],
      "metadata": {
        "id": "9vw2MgNHBdSO"
      },
      "execution_count": 5,
      "outputs": []
    },
    {
      "cell_type": "markdown",
      "source": [
        "And then place example data in it ..."
      ],
      "metadata": {
        "id": "_6m1gQyiBwKF"
      }
    },
    {
      "cell_type": "code",
      "source": [
        "%cd \"/content/_data\"\n",
        "!rm *.jsonl*\n",
        "!rm *.tsv.gz*\n",
        "!wget https://raw.githubusercontent.com/nicolay-r/AREnets/0.23.1/tutorials/_data/sample-train.tsv.gz\n",
        "!wget https://raw.githubusercontent.com/nicolay-r/AREnets/0.23.1/tutorials/_data/sample-test.tsv.gz\n",
        "!wget https://raw.githubusercontent.com/nicolay-r/AREnets/0.23.1/tutorials/_data/sample-train.jsonl\n",
        "!wget https://raw.githubusercontent.com/nicolay-r/AREnets/0.23.1/tutorials/_data/sample-test.jsonl"
      ],
      "metadata": {
        "id": "_KMYt-B7oAf7",
        "colab": {
          "base_uri": "https://localhost:8080/"
        },
        "outputId": "8e559ec0-5448-4bdf-8d20-e712ad762cb3"
      },
      "execution_count": 6,
      "outputs": [
        {
          "output_type": "stream",
          "name": "stdout",
          "text": [
            "/content/_data\n",
            "rm: cannot remove '*.jsonl*': No such file or directory\n",
            "rm: cannot remove '*.tsv.gz*': No such file or directory\n",
            "--2023-01-17 13:01:17--  https://raw.githubusercontent.com/nicolay-r/AREnets/0.23.1/tutorials/_data/sample-train.tsv.gz\n",
            "Resolving raw.githubusercontent.com (raw.githubusercontent.com)... 185.199.108.133, 185.199.109.133, 185.199.110.133, ...\n",
            "Connecting to raw.githubusercontent.com (raw.githubusercontent.com)|185.199.108.133|:443... connected.\n",
            "HTTP request sent, awaiting response... 200 OK\n",
            "Length: 5232 (5.1K) [application/octet-stream]\n",
            "Saving to: ‘sample-train.tsv.gz’\n",
            "\n",
            "sample-train.tsv.gz 100%[===================>]   5.11K  --.-KB/s    in 0s      \n",
            "\n",
            "2023-01-17 13:01:17 (66.8 MB/s) - ‘sample-train.tsv.gz’ saved [5232/5232]\n",
            "\n",
            "--2023-01-17 13:01:17--  https://raw.githubusercontent.com/nicolay-r/AREnets/0.23.1/tutorials/_data/sample-test.tsv.gz\n",
            "Resolving raw.githubusercontent.com (raw.githubusercontent.com)... 185.199.108.133, 185.199.109.133, 185.199.110.133, ...\n",
            "Connecting to raw.githubusercontent.com (raw.githubusercontent.com)|185.199.108.133|:443... connected.\n",
            "HTTP request sent, awaiting response... 200 OK\n",
            "Length: 3309 (3.2K) [application/octet-stream]\n",
            "Saving to: ‘sample-test.tsv.gz’\n",
            "\n",
            "sample-test.tsv.gz  100%[===================>]   3.23K  --.-KB/s    in 0s      \n",
            "\n",
            "2023-01-17 13:01:17 (57.2 MB/s) - ‘sample-test.tsv.gz’ saved [3309/3309]\n",
            "\n",
            "--2023-01-17 13:01:18--  https://raw.githubusercontent.com/nicolay-r/AREnets/0.23.1/tutorials/_data/sample-train.jsonl\n",
            "Resolving raw.githubusercontent.com (raw.githubusercontent.com)... 185.199.108.133, 185.199.109.133, 185.199.110.133, ...\n",
            "Connecting to raw.githubusercontent.com (raw.githubusercontent.com)|185.199.108.133|:443... connected.\n",
            "HTTP request sent, awaiting response... 200 OK\n",
            "Length: 29575 (29K) [text/plain]\n",
            "Saving to: ‘sample-train.jsonl’\n",
            "\n",
            "sample-train.jsonl  100%[===================>]  28.88K  --.-KB/s    in 0s      \n",
            "\n",
            "2023-01-17 13:01:18 (137 MB/s) - ‘sample-train.jsonl’ saved [29575/29575]\n",
            "\n",
            "--2023-01-17 13:01:18--  https://raw.githubusercontent.com/nicolay-r/AREnets/0.23.1/tutorials/_data/sample-test.jsonl\n",
            "Resolving raw.githubusercontent.com (raw.githubusercontent.com)... 185.199.108.133, 185.199.109.133, 185.199.110.133, ...\n",
            "Connecting to raw.githubusercontent.com (raw.githubusercontent.com)|185.199.108.133|:443... connected.\n",
            "HTTP request sent, awaiting response... 200 OK\n",
            "Length: 21159 (21K) [text/plain]\n",
            "Saving to: ‘sample-test.jsonl’\n",
            "\n",
            "sample-test.jsonl   100%[===================>]  20.66K  --.-KB/s    in 0s      \n",
            "\n",
            "2023-01-17 13:01:18 (105 MB/s) - ‘sample-test.jsonl’ saved [21159/21159]\n",
            "\n"
          ]
        }
      ]
    },
    {
      "cell_type": "markdown",
      "source": [
        "## Prepare embedding\n",
        "You can choose your one from the [following resource](http://vectors.nlpl.eu/repository/20/6.zip) for mostly any language you want."
      ],
      "metadata": {
        "id": "ia0ufIsKmw4q"
      }
    },
    {
      "cell_type": "code",
      "source": [
        "!wget http://vectors.nlpl.eu/repository/20/6.zip -P \"/content/_data\""
      ],
      "metadata": {
        "colab": {
          "base_uri": "https://localhost:8080/"
        },
        "id": "rrg-nobCmzEx",
        "outputId": "2dec51b6-4645-4ca4-856a-daace2db38ad"
      },
      "execution_count": 7,
      "outputs": [
        {
          "output_type": "stream",
          "name": "stdout",
          "text": [
            "--2023-01-17 13:01:26--  http://vectors.nlpl.eu/repository/20/6.zip\n",
            "Resolving vectors.nlpl.eu (vectors.nlpl.eu)... 129.240.189.181\n",
            "Connecting to vectors.nlpl.eu (vectors.nlpl.eu)|129.240.189.181|:80... connected.\n",
            "HTTP request sent, awaiting response... 200 OK\n",
            "Length: 635351287 (606M) [application/zip]\n",
            "Saving to: ‘/content/_data/6.zip’\n",
            "\n",
            "6.zip               100%[===================>] 605.92M  13.0MB/s    in 50s     \n",
            "\n",
            "2023-01-17 13:02:17 (12.2 MB/s) - ‘/content/_data/6.zip’ saved [635351287/635351287]\n",
            "\n"
          ]
        }
      ]
    },
    {
      "cell_type": "code",
      "source": [
        "%cd \"/content/_data\"\n",
        "!unzip *.zip"
      ],
      "metadata": {
        "colab": {
          "base_uri": "https://localhost:8080/"
        },
        "id": "q9eszW-Kntlu",
        "outputId": "dce3d776-836d-412c-e2b0-31fb6c6eb9c8"
      },
      "execution_count": 8,
      "outputs": [
        {
          "output_type": "stream",
          "name": "stdout",
          "text": [
            "/content/_data\n",
            "Archive:  6.zip\n",
            "  inflating: meta.json               \n",
            "  inflating: model.bin               \n",
            "  inflating: model.txt               \n",
            "  inflating: README                  \n"
          ]
        }
      ]
    },
    {
      "cell_type": "markdown",
      "source": [
        "## Training\n",
        "\n",
        "Please, use files in order to open up `train.py` and customize training script for your needs."
      ],
      "metadata": {
        "id": "8pL6nnKeleez"
      }
    },
    {
      "cell_type": "code",
      "source": [
        "%cd \"/content\"\n",
        "!python train.py"
      ],
      "metadata": {
        "colab": {
          "base_uri": "https://localhost:8080/"
        },
        "id": "91CTslwoz-_W",
        "outputId": "1563b9a3-8fe5-4861-deec-344e71510d15"
      },
      "execution_count": 25,
      "outputs": [
        {
          "output_type": "stream",
          "name": "stdout",
          "text": [
            "/content\n",
            "/usr/local/lib/python3.6/dist-packages/tensorflow/python/framework/dtypes.py:516: FutureWarning: Passing (type, 1) or '1type' as a synonym of type is deprecated; in a future version of numpy, it will be understood as (type, (1,)) / '(1,)type'.\n",
            "  _np_qint8 = np.dtype([(\"qint8\", np.int8, 1)])\n",
            "/usr/local/lib/python3.6/dist-packages/tensorflow/python/framework/dtypes.py:517: FutureWarning: Passing (type, 1) or '1type' as a synonym of type is deprecated; in a future version of numpy, it will be understood as (type, (1,)) / '(1,)type'.\n",
            "  _np_quint8 = np.dtype([(\"quint8\", np.uint8, 1)])\n",
            "/usr/local/lib/python3.6/dist-packages/tensorflow/python/framework/dtypes.py:518: FutureWarning: Passing (type, 1) or '1type' as a synonym of type is deprecated; in a future version of numpy, it will be understood as (type, (1,)) / '(1,)type'.\n",
            "  _np_qint16 = np.dtype([(\"qint16\", np.int16, 1)])\n",
            "/usr/local/lib/python3.6/dist-packages/tensorflow/python/framework/dtypes.py:519: FutureWarning: Passing (type, 1) or '1type' as a synonym of type is deprecated; in a future version of numpy, it will be understood as (type, (1,)) / '(1,)type'.\n",
            "  _np_quint16 = np.dtype([(\"quint16\", np.uint16, 1)])\n",
            "/usr/local/lib/python3.6/dist-packages/tensorflow/python/framework/dtypes.py:520: FutureWarning: Passing (type, 1) or '1type' as a synonym of type is deprecated; in a future version of numpy, it will be understood as (type, (1,)) / '(1,)type'.\n",
            "  _np_qint32 = np.dtype([(\"qint32\", np.int32, 1)])\n",
            "/usr/local/lib/python3.6/dist-packages/tensorflow/python/framework/dtypes.py:525: FutureWarning: Passing (type, 1) or '1type' as a synonym of type is deprecated; in a future version of numpy, it will be understood as (type, (1,)) / '(1,)type'.\n",
            "  np_resource = np.dtype([(\"resource\", np.ubyte, 1)])\n",
            "/usr/local/lib/python3.6/dist-packages/tensorboard/compat/tensorflow_stub/dtypes.py:541: FutureWarning: Passing (type, 1) or '1type' as a synonym of type is deprecated; in a future version of numpy, it will be understood as (type, (1,)) / '(1,)type'.\n",
            "  _np_qint8 = np.dtype([(\"qint8\", np.int8, 1)])\n",
            "/usr/local/lib/python3.6/dist-packages/tensorboard/compat/tensorflow_stub/dtypes.py:542: FutureWarning: Passing (type, 1) or '1type' as a synonym of type is deprecated; in a future version of numpy, it will be understood as (type, (1,)) / '(1,)type'.\n",
            "  _np_quint8 = np.dtype([(\"quint8\", np.uint8, 1)])\n",
            "/usr/local/lib/python3.6/dist-packages/tensorboard/compat/tensorflow_stub/dtypes.py:543: FutureWarning: Passing (type, 1) or '1type' as a synonym of type is deprecated; in a future version of numpy, it will be understood as (type, (1,)) / '(1,)type'.\n",
            "  _np_qint16 = np.dtype([(\"qint16\", np.int16, 1)])\n",
            "/usr/local/lib/python3.6/dist-packages/tensorboard/compat/tensorflow_stub/dtypes.py:544: FutureWarning: Passing (type, 1) or '1type' as a synonym of type is deprecated; in a future version of numpy, it will be understood as (type, (1,)) / '(1,)type'.\n",
            "  _np_quint16 = np.dtype([(\"quint16\", np.uint16, 1)])\n",
            "/usr/local/lib/python3.6/dist-packages/tensorboard/compat/tensorflow_stub/dtypes.py:545: FutureWarning: Passing (type, 1) or '1type' as a synonym of type is deprecated; in a future version of numpy, it will be understood as (type, (1,)) / '(1,)type'.\n",
            "  _np_qint32 = np.dtype([(\"qint32\", np.int32, 1)])\n",
            "/usr/local/lib/python3.6/dist-packages/tensorboard/compat/tensorflow_stub/dtypes.py:550: FutureWarning: Passing (type, 1) or '1type' as a synonym of type is deprecated; in a future version of numpy, it will be understood as (type, (1,)) / '(1,)type'.\n",
            "  np_resource = np.dtype([(\"resource\", np.ubyte, 1)])\n",
            "WARNING:tensorflow:From /usr/local/lib/python3.6/dist-packages/tensorflow/python/ops/init_ops.py:1288: calling VarianceScaling.__init__ (from tensorflow.python.ops.init_ops) with dtype is deprecated and will be removed in a future version.\n",
            "Instructions for updating:\n",
            "Call initializer instance with the dtype argument instead of passing it to the constructor\n",
            "WARNING:tensorflow:From /usr/local/lib/python3.6/dist-packages/tensorflow/python/ops/init_ops.py:1288: calling VarianceScaling.__init__ (from tensorflow.python.ops.init_ops) with dtype is deprecated and will be removed in a future version.\n",
            "Instructions for updating:\n",
            "Call initializer instance with the dtype argument instead of passing it to the constructor\n",
            "INFO:arenets.arekit.contrib.utils.io_utils.utils:Check existence [True]: _data/vocab.txt\n",
            "INFO:arenets.arekit.contrib.utils.io_utils.utils:Check existence [True]: _data/term_embedding.npz\n",
            "2023-01-17 13:58:30,215     INFO arenets.pipelines.items.training | Removing old file/dir: _data/cnn\n",
            "INFO:arenets.pipelines.items.training:Removing old file/dir: _data/cnn\n",
            "WARNING:tensorflow:\n",
            "The TensorFlow contrib module will not be included in TensorFlow 2.0.\n",
            "For more information, please see:\n",
            "  * https://github.com/tensorflow/community/blob/master/rfcs/20180907-contrib-sunset.md\n",
            "  * https://github.com/tensorflow/addons\n",
            "  * https://github.com/tensorflow/io (for I/O related ops)\n",
            "If you depend on functionality not listed there, please file an issue.\n",
            "\n",
            "WARNING:tensorflow:\n",
            "The TensorFlow contrib module will not be included in TensorFlow 2.0.\n",
            "For more information, please see:\n",
            "  * https://github.com/tensorflow/community/blob/master/rfcs/20180907-contrib-sunset.md\n",
            "  * https://github.com/tensorflow/addons\n",
            "  * https://github.com/tensorflow/io (for I/O related ops)\n",
            "If you depend on functionality not listed there, please file an issue.\n",
            "\n",
            "INFO:tensorflow:Scale of 0 disables regularizer.\n",
            "INFO:tensorflow:Scale of 0 disables regularizer.\n",
            "WARNING:tensorflow:From /usr/local/lib/python3.6/dist-packages/arenets/context/configurations/base/base.py:190: calling Zeros.__init__ (from tensorflow.python.ops.init_ops) with dtype is deprecated and will be removed in a future version.\n",
            "Instructions for updating:\n",
            "Call initializer instance with the dtype argument instead of passing it to the constructor\n",
            "WARNING:tensorflow:From /usr/local/lib/python3.6/dist-packages/arenets/context/configurations/base/base.py:190: calling Zeros.__init__ (from tensorflow.python.ops.init_ops) with dtype is deprecated and will be removed in a future version.\n",
            "Instructions for updating:\n",
            "Call initializer instance with the dtype argument instead of passing it to the constructor\n",
            "INFO:arenets.arekit.contrib.utils.io_utils.utils:Check existence [True]: _data/sample-train.jsonl\n",
            "INFO:arenets.arekit.contrib.utils.io_utils.utils:Check existence [True]: _data/vocab.txt\n",
            "INFO:arenets.arekit.contrib.utils.io_utils.utils:Check existence [True]: _data/term_embedding.npz\n",
            "INFO:arenets.arekit.contrib.utils.np_utils.embedding:Embedding read [size=(302866, 300)]: _data/term_embedding.npz\n",
            "INFO:arenets.arekit.contrib.utils.np_utils.vocab:Loading vocabulary [size=302866]: _data/vocab.txt\n",
            "Filling bags collection [DataType.Train]: 100it [00:00, 2259.73it/s]\n",
            "WARNING:tensorflow:From /usr/local/lib/python3.6/dist-packages/arenets/context/architectures/base/base.py:343: calling dropout (from tensorflow.python.ops.nn_ops) with keep_prob is deprecated and will be removed in a future version.\n",
            "Instructions for updating:\n",
            "Please use `rate` instead of `keep_prob`. Rate should be set to `rate = 1 - keep_prob`.\n",
            "WARNING:tensorflow:From /usr/local/lib/python3.6/dist-packages/arenets/context/architectures/base/base.py:343: calling dropout (from tensorflow.python.ops.nn_ops) with keep_prob is deprecated and will be removed in a future version.\n",
            "Instructions for updating:\n",
            "Please use `rate` instead of `keep_prob`. Rate should be set to `rate = 1 - keep_prob`.\n",
            "WARNING:tensorflow:From /usr/local/lib/python3.6/dist-packages/tensorflow/python/util/deprecation.py:574: calling conv1d (from tensorflow.python.ops.nn_ops) with data_format=NHWC is deprecated and will be removed in a future version.\n",
            "Instructions for updating:\n",
            "`NHWC` for data_format is deprecated, use `NWC` instead\n",
            "WARNING:tensorflow:From /usr/local/lib/python3.6/dist-packages/tensorflow/python/util/deprecation.py:574: calling conv1d (from tensorflow.python.ops.nn_ops) with data_format=NHWC is deprecated and will be removed in a future version.\n",
            "Instructions for updating:\n",
            "`NHWC` for data_format is deprecated, use `NWC` instead\n",
            "INFO:arenets.core.model:Minibatches passing per epoch count: ~3 (Might be greater or equal, as the last bag is expanded)\n",
            "Training [DataType.Train]: 4mbs [00:04,  1.15s/mbs]\n",
            "INFO:arenets.core.callback.stat:2023-01-17 13:58:40.565832: Epoch: 1: avg_loss: 43.738, avg_acc: 0.477\n",
            "INFO:arenets.tf_helpers.nn_states:Update TensorFlow model state: _data/cnn/cnn\n",
            "INFO:arenets.core.model:Minibatches passing per epoch count: ~3 (Might be greater or equal, as the last bag is expanded)\n",
            "Training [DataType.Train]: 4mbs [00:01,  2.72mbs/s]\n",
            "INFO:arenets.core.callback.stat:2023-01-17 13:58:42.093209: Epoch: 2: avg_loss: 37.744, avg_acc: 0.508\n",
            "INFO:arenets.tf_helpers.nn_states:Update TensorFlow model state: _data/cnn/cnn\n",
            "INFO:arenets.core.model:Minibatches passing per epoch count: ~3 (Might be greater or equal, as the last bag is expanded)\n",
            "Training [DataType.Train]: 4mbs [00:01,  2.73mbs/s]\n",
            "INFO:arenets.core.callback.stat:2023-01-17 13:58:43.571176: Epoch: 3: avg_loss: 23.879, avg_acc: 0.812\n",
            "INFO:arenets.tf_helpers.nn_states:Update TensorFlow model state: _data/cnn/cnn\n",
            "INFO:arenets.core.model:Minibatches passing per epoch count: ~3 (Might be greater or equal, as the last bag is expanded)\n",
            "Training [DataType.Train]: 4mbs [00:01,  2.71mbs/s]\n",
            "INFO:arenets.core.callback.stat:2023-01-17 13:58:45.060060: Epoch: 4: avg_loss: 15.332, avg_acc: 0.891\n",
            "INFO:arenets.tf_helpers.nn_states:Update TensorFlow model state: _data/cnn/cnn\n",
            "INFO:arenets.core.model:Minibatches passing per epoch count: ~3 (Might be greater or equal, as the last bag is expanded)\n",
            "Training [DataType.Train]: 4mbs [00:01,  2.75mbs/s]\n",
            "INFO:arenets.core.callback.stat:2023-01-17 13:58:46.526318: Epoch: 5: avg_loss: 8.27, avg_acc: 0.977\n",
            "INFO:arenets.tf_helpers.nn_states:Update TensorFlow model state: _data/cnn/cnn\n",
            "INFO:arenets.core.model:Minibatches passing per epoch count: ~3 (Might be greater or equal, as the last bag is expanded)\n",
            "Training [DataType.Train]: 4mbs [00:01,  2.72mbs/s]\n",
            "INFO:arenets.core.callback.stat:2023-01-17 13:58:48.008467: Epoch: 6: avg_loss: 5.588, avg_acc: 0.992\n",
            "INFO:arenets.tf_helpers.nn_states:Update TensorFlow model state: _data/cnn/cnn\n",
            "INFO:arenets.core.model:Minibatches passing per epoch count: ~3 (Might be greater or equal, as the last bag is expanded)\n",
            "Training [DataType.Train]: 4mbs [00:01,  2.60mbs/s]\n",
            "INFO:arenets.core.callback.train_limiter:Stop Training Process: avg_fit_acc > 1.0\n",
            "INFO:arenets.core.callback.stat:2023-01-17 13:58:49.555015: Epoch: 7: avg_loss: 5.651, avg_acc: 1.0\n",
            "INFO:arenets.tf_helpers.nn_states:Update TensorFlow model state: _data/cnn/cnn\n"
          ]
        }
      ]
    },
    {
      "cell_type": "markdown",
      "source": [
        "## Predict\n",
        "\n",
        "Please, use files in order to open up `predict.py` and customize prediction script for your needs.\n"
      ],
      "metadata": {
        "id": "jwPyLMzPmZlX"
      }
    },
    {
      "cell_type": "code",
      "source": [
        "%cd \"/content\"\n",
        "!python predict.py"
      ],
      "metadata": {
        "colab": {
          "base_uri": "https://localhost:8080/"
        },
        "id": "AtDHlgDv0CHe",
        "outputId": "a386d83c-0920-462b-ad50-5c58e10844b1"
      },
      "execution_count": 26,
      "outputs": [
        {
          "output_type": "stream",
          "name": "stdout",
          "text": [
            "/content\n",
            "/usr/local/lib/python3.6/dist-packages/tensorflow/python/framework/dtypes.py:516: FutureWarning: Passing (type, 1) or '1type' as a synonym of type is deprecated; in a future version of numpy, it will be understood as (type, (1,)) / '(1,)type'.\n",
            "  _np_qint8 = np.dtype([(\"qint8\", np.int8, 1)])\n",
            "/usr/local/lib/python3.6/dist-packages/tensorflow/python/framework/dtypes.py:517: FutureWarning: Passing (type, 1) or '1type' as a synonym of type is deprecated; in a future version of numpy, it will be understood as (type, (1,)) / '(1,)type'.\n",
            "  _np_quint8 = np.dtype([(\"quint8\", np.uint8, 1)])\n",
            "/usr/local/lib/python3.6/dist-packages/tensorflow/python/framework/dtypes.py:518: FutureWarning: Passing (type, 1) or '1type' as a synonym of type is deprecated; in a future version of numpy, it will be understood as (type, (1,)) / '(1,)type'.\n",
            "  _np_qint16 = np.dtype([(\"qint16\", np.int16, 1)])\n",
            "/usr/local/lib/python3.6/dist-packages/tensorflow/python/framework/dtypes.py:519: FutureWarning: Passing (type, 1) or '1type' as a synonym of type is deprecated; in a future version of numpy, it will be understood as (type, (1,)) / '(1,)type'.\n",
            "  _np_quint16 = np.dtype([(\"quint16\", np.uint16, 1)])\n",
            "/usr/local/lib/python3.6/dist-packages/tensorflow/python/framework/dtypes.py:520: FutureWarning: Passing (type, 1) or '1type' as a synonym of type is deprecated; in a future version of numpy, it will be understood as (type, (1,)) / '(1,)type'.\n",
            "  _np_qint32 = np.dtype([(\"qint32\", np.int32, 1)])\n",
            "/usr/local/lib/python3.6/dist-packages/tensorflow/python/framework/dtypes.py:525: FutureWarning: Passing (type, 1) or '1type' as a synonym of type is deprecated; in a future version of numpy, it will be understood as (type, (1,)) / '(1,)type'.\n",
            "  np_resource = np.dtype([(\"resource\", np.ubyte, 1)])\n",
            "/usr/local/lib/python3.6/dist-packages/tensorboard/compat/tensorflow_stub/dtypes.py:541: FutureWarning: Passing (type, 1) or '1type' as a synonym of type is deprecated; in a future version of numpy, it will be understood as (type, (1,)) / '(1,)type'.\n",
            "  _np_qint8 = np.dtype([(\"qint8\", np.int8, 1)])\n",
            "/usr/local/lib/python3.6/dist-packages/tensorboard/compat/tensorflow_stub/dtypes.py:542: FutureWarning: Passing (type, 1) or '1type' as a synonym of type is deprecated; in a future version of numpy, it will be understood as (type, (1,)) / '(1,)type'.\n",
            "  _np_quint8 = np.dtype([(\"quint8\", np.uint8, 1)])\n",
            "/usr/local/lib/python3.6/dist-packages/tensorboard/compat/tensorflow_stub/dtypes.py:543: FutureWarning: Passing (type, 1) or '1type' as a synonym of type is deprecated; in a future version of numpy, it will be understood as (type, (1,)) / '(1,)type'.\n",
            "  _np_qint16 = np.dtype([(\"qint16\", np.int16, 1)])\n",
            "/usr/local/lib/python3.6/dist-packages/tensorboard/compat/tensorflow_stub/dtypes.py:544: FutureWarning: Passing (type, 1) or '1type' as a synonym of type is deprecated; in a future version of numpy, it will be understood as (type, (1,)) / '(1,)type'.\n",
            "  _np_quint16 = np.dtype([(\"quint16\", np.uint16, 1)])\n",
            "/usr/local/lib/python3.6/dist-packages/tensorboard/compat/tensorflow_stub/dtypes.py:545: FutureWarning: Passing (type, 1) or '1type' as a synonym of type is deprecated; in a future version of numpy, it will be understood as (type, (1,)) / '(1,)type'.\n",
            "  _np_qint32 = np.dtype([(\"qint32\", np.int32, 1)])\n",
            "/usr/local/lib/python3.6/dist-packages/tensorboard/compat/tensorflow_stub/dtypes.py:550: FutureWarning: Passing (type, 1) or '1type' as a synonym of type is deprecated; in a future version of numpy, it will be understood as (type, (1,)) / '(1,)type'.\n",
            "  np_resource = np.dtype([(\"resource\", np.ubyte, 1)])\n",
            "WARNING:tensorflow:From /usr/local/lib/python3.6/dist-packages/tensorflow/python/ops/init_ops.py:1288: calling VarianceScaling.__init__ (from tensorflow.python.ops.init_ops) with dtype is deprecated and will be removed in a future version.\n",
            "Instructions for updating:\n",
            "Call initializer instance with the dtype argument instead of passing it to the constructor\n",
            "INFO:arenets.arekit.contrib.utils.io_utils.utils:Check existence [True]: _data/vocab.txt\n",
            "INFO:arenets.arekit.contrib.utils.io_utils.utils:Check existence [True]: _data/term_embedding.npz\n",
            "INFO:arenets.arekit.contrib.utils.np_utils.embedding:Embedding read [size=(302866, 300)]: _data/term_embedding.npz\n",
            "INFO:arenets.arekit.contrib.utils.np_utils.vocab:Loading vocabulary [size=302866]: _data/vocab.txt\n",
            "Filling bags collection [DataType.Test]: 64it [00:00, 884.99it/s]\n",
            "WARNING:tensorflow:From /usr/local/lib/python3.6/dist-packages/arenets/context/architectures/base/base.py:343: calling dropout (from tensorflow.python.ops.nn_ops) with keep_prob is deprecated and will be removed in a future version.\n",
            "Instructions for updating:\n",
            "Please use `rate` instead of `keep_prob`. Rate should be set to `rate = 1 - keep_prob`.\n",
            "WARNING:tensorflow:From /usr/local/lib/python3.6/dist-packages/tensorflow/python/util/deprecation.py:574: calling conv1d (from tensorflow.python.ops.nn_ops) with data_format=NHWC is deprecated and will be removed in a future version.\n",
            "Instructions for updating:\n",
            "`NHWC` for data_format is deprecated, use `NWC` instead\n",
            "2023-01-17 13:58:59.750436: I tensorflow/core/platform/cpu_feature_guard.cc:142] Your CPU supports instructions that this TensorFlow binary was not compiled to use: AVX2 FMA\n",
            "2023-01-17 13:58:59.757650: I tensorflow/stream_executor/platform/default/dso_loader.cc:42] Successfully opened dynamic library libcuda.so.1\n",
            "2023-01-17 13:59:00.020112: I tensorflow/stream_executor/cuda/cuda_gpu_executor.cc:1005] successful NUMA node read from SysFS had negative value (-1), but there must be at least one NUMA node, so returning NUMA node zero\n",
            "2023-01-17 13:59:00.021171: I tensorflow/compiler/xla/service/service.cc:168] XLA service 0x2900e00 executing computations on platform CUDA. Devices:\n",
            "2023-01-17 13:59:00.021214: I tensorflow/compiler/xla/service/service.cc:175]   StreamExecutor device (0): Tesla T4, Compute Capability 7.5\n",
            "2023-01-17 13:59:00.023712: I tensorflow/core/platform/profile_utils/cpu_utils.cc:94] CPU Frequency: 2199995000 Hz\n",
            "2023-01-17 13:59:00.023967: I tensorflow/compiler/xla/service/service.cc:168] XLA service 0x2901a40 executing computations on platform Host. Devices:\n",
            "2023-01-17 13:59:00.023997: I tensorflow/compiler/xla/service/service.cc:175]   StreamExecutor device (0): <undefined>, <undefined>\n",
            "2023-01-17 13:59:00.024188: I tensorflow/stream_executor/cuda/cuda_gpu_executor.cc:1005] successful NUMA node read from SysFS had negative value (-1), but there must be at least one NUMA node, so returning NUMA node zero\n",
            "2023-01-17 13:59:00.025004: I tensorflow/core/common_runtime/gpu/gpu_device.cc:1640] Found device 0 with properties: \n",
            "name: Tesla T4 major: 7 minor: 5 memoryClockRate(GHz): 1.59\n",
            "pciBusID: 0000:00:04.0\n",
            "2023-01-17 13:59:00.025164: I tensorflow/stream_executor/platform/default/dso_loader.cc:53] Could not dlopen library 'libcudart.so.10.0'; dlerror: libcudart.so.10.0: cannot open shared object file: No such file or directory; LD_LIBRARY_PATH: /usr/lib64-nvidia\n",
            "2023-01-17 13:59:00.025256: I tensorflow/stream_executor/platform/default/dso_loader.cc:53] Could not dlopen library 'libcublas.so.10.0'; dlerror: libcublas.so.10.0: cannot open shared object file: No such file or directory; LD_LIBRARY_PATH: /usr/lib64-nvidia\n",
            "2023-01-17 13:59:00.025335: I tensorflow/stream_executor/platform/default/dso_loader.cc:53] Could not dlopen library 'libcufft.so.10.0'; dlerror: libcufft.so.10.0: cannot open shared object file: No such file or directory; LD_LIBRARY_PATH: /usr/lib64-nvidia\n",
            "2023-01-17 13:59:00.025422: I tensorflow/stream_executor/platform/default/dso_loader.cc:53] Could not dlopen library 'libcurand.so.10.0'; dlerror: libcurand.so.10.0: cannot open shared object file: No such file or directory; LD_LIBRARY_PATH: /usr/lib64-nvidia\n",
            "2023-01-17 13:59:00.025502: I tensorflow/stream_executor/platform/default/dso_loader.cc:53] Could not dlopen library 'libcusolver.so.10.0'; dlerror: libcusolver.so.10.0: cannot open shared object file: No such file or directory; LD_LIBRARY_PATH: /usr/lib64-nvidia\n",
            "2023-01-17 13:59:00.025583: I tensorflow/stream_executor/platform/default/dso_loader.cc:53] Could not dlopen library 'libcusparse.so.10.0'; dlerror: libcusparse.so.10.0: cannot open shared object file: No such file or directory; LD_LIBRARY_PATH: /usr/lib64-nvidia\n",
            "2023-01-17 13:59:00.025661: I tensorflow/stream_executor/platform/default/dso_loader.cc:53] Could not dlopen library 'libcudnn.so.7'; dlerror: libcudnn.so.7: cannot open shared object file: No such file or directory; LD_LIBRARY_PATH: /usr/lib64-nvidia\n",
            "2023-01-17 13:59:00.025681: W tensorflow/core/common_runtime/gpu/gpu_device.cc:1663] Cannot dlopen some GPU libraries. Skipping registering GPU devices...\n",
            "2023-01-17 13:59:00.025705: I tensorflow/core/common_runtime/gpu/gpu_device.cc:1181] Device interconnect StreamExecutor with strength 1 edge matrix:\n",
            "2023-01-17 13:59:00.025719: I tensorflow/core/common_runtime/gpu/gpu_device.cc:1187]      0 \n",
            "2023-01-17 13:59:00.025732: I tensorflow/core/common_runtime/gpu/gpu_device.cc:1200] 0:   N \n",
            "2023-01-17 13:59:00.053674: W tensorflow/compiler/jit/mark_for_compilation_pass.cc:1412] (One-time warning): Not using XLA:CPU for cluster because envvar TF_XLA_FLAGS=--tf_xla_cpu_global_jit was not set.  If you want XLA:CPU, either set that envvar, or use experimental_jit_scope to enable XLA:CPU.  To confirm that XLA is active, pass --vmodule=xla_compilation_cache=1 (as a proper command-line flag, not via TF_XLA_FLAGS) or set the envvar XLA_FLAGS=--xla_hlo_profile.\n",
            "INFO:arenets.tf_helpers.nn_states:----------------------------------\n",
            "INFO:arenets.tf_helpers.nn_states:Loading Tensorflow model state: _data/cnn/\n",
            "INFO:arenets.tf_helpers.nn_states:----------------------------------\n",
            "WARNING:tensorflow:From /usr/local/lib/python3.6/dist-packages/tensorflow/python/training/saver.py:1276: checkpoint_exists (from tensorflow.python.training.checkpoint_management) is deprecated and will be removed in a future version.\n",
            "Instructions for updating:\n",
            "Use standard file APIs to check for files with this prefix.\n",
            "INFO:tensorflow:Restoring parameters from _data/cnn/cnn\n",
            "INFO:arenets.core.model:Minibatches passing per epoch count: ~2 (Might be greater or equal, as the last bag is expanded)\n",
            "Predict [DataType.Test]:   0%|                                                                   | 0/2 [00:00<?, ?mbs/s]2023-01-17 13:59:00.116360: W tensorflow/core/framework/allocator.cc:107] Allocation of 363439200 exceeds 10% of system memory.\n",
            "2023-01-17 13:59:00.212936: W tensorflow/core/framework/allocator.cc:107] Allocation of 363439200 exceeds 10% of system memory.\n",
            "2023-01-17 13:59:00.313791: W tensorflow/core/framework/allocator.cc:107] Allocation of 363439200 exceeds 10% of system memory.\n",
            "2023-01-17 13:59:00.575518: W tensorflow/core/framework/allocator.cc:107] Allocation of 363439200 exceeds 10% of system memory.\n",
            "2023-01-17 13:59:00.668762: W tensorflow/core/framework/allocator.cc:107] Allocation of 363439200 exceeds 10% of system memory.\n",
            "Predict [DataType.Test]: 3mbs [00:03,  1.25s/mbs]\n",
            "INFO:arenets.np_utils.writer:Save: _data/cnn/hidden/hparams_C\n",
            "INFO:arenets.np_utils.writer:Save: _data/cnn/hidden/hparams_W\n",
            "INFO:arenets.np_utils.writer:Save: _data/cnn/hidden/hparams_b\n",
            "INFO:arenets.np_utils.writer:Save: _data/cnn/hidden/hparams_W2\n",
            "INFO:arenets.np_utils.writer:Save: _data/cnn/hidden/hparams_b2\n",
            "INFO:arenets.np_utils.writer:Save: _data/cnn/hidden/idparams_x-DataType.Test\n",
            "INFO:arenets.np_utils.writer:Save: _data/cnn/hidden/idparams_x-DataType.Test.ids\n",
            "INFO:arenets.np_utils.writer:Save: _data/cnn/hidden/idparams_obj_ind-DataType.Test\n",
            "INFO:arenets.np_utils.writer:Save: _data/cnn/hidden/idparams_obj_ind-DataType.Test.ids\n",
            "INFO:arenets.np_utils.writer:Save: _data/cnn/hidden/idparams_subj_ind-DataType.Test\n",
            "INFO:arenets.np_utils.writer:Save: _data/cnn/hidden/idparams_subj_ind-DataType.Test.ids\n",
            "INFO:arenets.np_utils.writer:Save: _data/cnn/hidden/idparams_frame_inds-DataType.Test\n",
            "INFO:arenets.np_utils.writer:Save: _data/cnn/hidden/idparams_frame_inds-DataType.Test.ids\n",
            "INFO:arenets.np_utils.writer:Save: _data/cnn/hidden/idparams_frame_connotation_inds-DataType.Test\n",
            "INFO:arenets.np_utils.writer:Save: _data/cnn/hidden/idparams_frame_connotation_inds-DataType.Test.ids\n",
            "INFO:arenets.np_utils.writer:Save: _data/cnn/hidden/idparams_y_labels-DataType.Test\n",
            "INFO:arenets.np_utils.writer:Save: _data/cnn/hidden/idparams_y_labels-DataType.Test.ids\n",
            "INFO:arenets.np_utils.writer:Save: _data/cnn/hidden/idparams_y_scaled_logits-DataType.Test\n",
            "INFO:arenets.np_utils.writer:Save: _data/cnn/hidden/idparams_y_scaled_logits-DataType.Test.ids\n",
            "INFO:arenets.np_utils.writer:Save: _data/cnn/hidden/idparams_y_etalon_labels-DataType.Test\n",
            "INFO:arenets.np_utils.writer:Save: _data/cnn/hidden/idparams_y_etalon_labels-DataType.Test.ids\n",
            "Writing output: 64rows [00:00, 236090.99rows/s]\n",
            "INFO:arenets.core.writer.csv_writer:Saved: _out/predict-cnn-test.csv\n"
          ]
        }
      ]
    }
  ]
}