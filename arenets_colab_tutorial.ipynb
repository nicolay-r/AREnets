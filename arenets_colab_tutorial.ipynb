{
  "nbformat": 4,
  "nbformat_minor": 0,
  "metadata": {
    "colab": {
      "provenance": [],
      "authorship_tag": "ABX9TyPLCtJW2pbxaIZWJYduiK7/",
      "include_colab_link": true
    },
    "kernelspec": {
      "name": "python3",
      "display_name": "Python 3"
    },
    "language_info": {
      "name": "python"
    },
    "gpuClass": "standard",
    "accelerator": "GPU"
  },
  "cells": [
    {
      "cell_type": "markdown",
      "metadata": {
        "id": "view-in-github",
        "colab_type": "text"
      },
      "source": [
        "<a href=\"https://colab.research.google.com/github/nicolay-r/AREnets/blob/master/arenets_colab_tutorial.ipynb\" target=\"_parent\"><img src=\"https://colab.research.google.com/assets/colab-badge.svg\" alt=\"Open In Colab\"/></a>"
      ]
    },
    {
      "cell_type": "markdown",
      "source": [
        "# AREnets colab quick start tutorial\n",
        "\n",
        "## Setup Python 3.6.9 Environment\n",
        "In this section we setup `python-3.6` requireed by tensorflow version `1.14.0`"
      ],
      "metadata": {
        "id": "GFtrYfHLn9Gn"
      }
    },
    {
      "cell_type": "code",
      "source": [
        "!sudo update-alternatives --config python3"
      ],
      "metadata": {
        "id": "X1xBsoiNyPBu",
        "colab": {
          "base_uri": "https://localhost:8080/"
        },
        "outputId": "ca17389f-ce10-4c0e-caf7-2b7a106d0859"
      },
      "execution_count": 16,
      "outputs": [
        {
          "output_type": "stream",
          "name": "stdout",
          "text": [
            "There are 2 choices for the alternative python3 (providing /usr/bin/python3).\n",
            "\n",
            "  Selection    Path                Priority   Status\n",
            "------------------------------------------------------------\n",
            "* 0            /usr/bin/python3.8   2         auto mode\n",
            "  1            /usr/bin/python3.6   1         manual mode\n",
            "  2            /usr/bin/python3.8   2         manual mode\n",
            "\n",
            "Press <enter> to keep the current choice[*], or type selection number: 1\n",
            "update-alternatives: using /usr/bin/python3.6 to provide /usr/bin/python3 (python3) in manual mode\n"
          ]
        }
      ]
    },
    {
      "cell_type": "code",
      "source": [
        "!wget https://bootstrap.pypa.io/pip/3.6/get-pip.py\n",
        "!sudo python get-pip.py"
      ],
      "metadata": {
        "id": "OJ0LVVh60Ej2"
      },
      "execution_count": null,
      "outputs": []
    },
    {
      "cell_type": "code",
      "execution_count": null,
      "metadata": {
        "id": "fCNEJNTr1JzN"
      },
      "outputs": [],
      "source": [
        "!sudo pip uninstall arenets\n",
        "!sudo pip install git+https://github.com/nicolay-r/AREnets@master"
      ]
    },
    {
      "cell_type": "markdown",
      "source": [
        "## Download the code\n"
      ],
      "metadata": {
        "id": "ZzIIjAUslZbF"
      }
    },
    {
      "cell_type": "code",
      "source": [
        "%cd \"/content\"\n",
        "# clear prior local versions\n",
        "!rm ./*.py*\n",
        "!wget https://raw.githubusercontent.com/nicolay-r/AREnets/master/tutorials/nn_config.py\n",
        "!wget https://raw.githubusercontent.com/nicolay-r/AREnets/master/tutorials/predict.py\n",
        "!wget https://raw.githubusercontent.com/nicolay-r/AREnets/master/tutorials/train.py"
      ],
      "metadata": {
        "id": "3Tf9DjBQziNp"
      },
      "execution_count": null,
      "outputs": []
    },
    {
      "cell_type": "markdown",
      "source": [
        "## Download input samples"
      ],
      "metadata": {
        "id": "5DFxruKEn9fs"
      }
    },
    {
      "cell_type": "code",
      "source": [
        "%cd \"/content/_data\"\n",
        "!rm *.jsonl*\n",
        "!rm *.tsv.gz*\n",
        "!wget https://raw.githubusercontent.com/nicolay-r/AREnets/master/tutorials/_data/sample-train.tsv.gz\n",
        "!wget https://raw.githubusercontent.com/nicolay-r/AREnets/master/tutorials/_data/sample-test.tsv.gz\n",
        "!wget https://raw.githubusercontent.com/nicolay-r/AREnets/master/tutorials/_data/sample-train.jsonl\n",
        "!wget https://raw.githubusercontent.com/nicolay-r/AREnets/master/tutorials/_data/sample-test.jsonl"
      ],
      "metadata": {
        "id": "_KMYt-B7oAf7"
      },
      "execution_count": null,
      "outputs": []
    },
    {
      "cell_type": "markdown",
      "source": [
        "## Prepare embedding\n",
        "You can choose your one from the [following resource](http://vectors.nlpl.eu/repository/20/6.zip) for mostly any language you want."
      ],
      "metadata": {
        "id": "ia0ufIsKmw4q"
      }
    },
    {
      "cell_type": "code",
      "source": [
        "!wget http://vectors.nlpl.eu/repository/20/6.zip -P \"_data\""
      ],
      "metadata": {
        "colab": {
          "base_uri": "https://localhost:8080/"
        },
        "id": "rrg-nobCmzEx",
        "outputId": "1c7de410-8285-4955-a7b9-9681bb48300c"
      },
      "execution_count": 2,
      "outputs": [
        {
          "output_type": "stream",
          "name": "stdout",
          "text": [
            "--2023-01-03 21:50:10--  http://vectors.nlpl.eu/repository/20/6.zip\n",
            "Resolving vectors.nlpl.eu (vectors.nlpl.eu)... 129.240.189.181\n",
            "Connecting to vectors.nlpl.eu (vectors.nlpl.eu)|129.240.189.181|:80... connected.\n",
            "HTTP request sent, awaiting response... 200 OK\n",
            "Length: 635351287 (606M) [application/zip]\n",
            "Saving to: ‘_data/6.zip’\n",
            "\n",
            "6.zip               100%[===================>] 605.92M  17.3MB/s    in 84s     \n",
            "\n",
            "2023-01-03 21:51:35 (7.23 MB/s) - ‘_data/6.zip’ saved [635351287/635351287]\n",
            "\n"
          ]
        }
      ]
    },
    {
      "cell_type": "code",
      "source": [
        "%cd \"/content/_data\"\n",
        "!unzip *.zip"
      ],
      "metadata": {
        "colab": {
          "base_uri": "https://localhost:8080/"
        },
        "id": "q9eszW-Kntlu",
        "outputId": "ecbf8cd6-063c-464d-eaae-f228a3bec425"
      },
      "execution_count": 3,
      "outputs": [
        {
          "output_type": "stream",
          "name": "stdout",
          "text": [
            "/content/_data\n",
            "Archive:  6.zip\n",
            "  inflating: meta.json               \n",
            "  inflating: model.bin               \n",
            "  inflating: model.txt               \n",
            "  inflating: README                  \n"
          ]
        }
      ]
    },
    {
      "cell_type": "markdown",
      "source": [
        "## Training\n",
        "\n",
        "Please, use files in order to open up `train.py` and customize training script for your needs."
      ],
      "metadata": {
        "id": "8pL6nnKeleez"
      }
    },
    {
      "cell_type": "code",
      "source": [
        "%cd \"/content\"\n",
        "!python train.py"
      ],
      "metadata": {
        "colab": {
          "base_uri": "https://localhost:8080/"
        },
        "id": "91CTslwoz-_W",
        "outputId": "b9ca55d5-2f4b-41c4-96f1-7fbc9cc01d64"
      },
      "execution_count": 26,
      "outputs": [
        {
          "output_type": "stream",
          "name": "stdout",
          "text": [
            "/content\n",
            "/usr/local/lib/python3.6/dist-packages/tensorflow/python/framework/dtypes.py:516: FutureWarning: Passing (type, 1) or '1type' as a synonym of type is deprecated; in a future version of numpy, it will be understood as (type, (1,)) / '(1,)type'.\n",
            "  _np_qint8 = np.dtype([(\"qint8\", np.int8, 1)])\n",
            "/usr/local/lib/python3.6/dist-packages/tensorflow/python/framework/dtypes.py:517: FutureWarning: Passing (type, 1) or '1type' as a synonym of type is deprecated; in a future version of numpy, it will be understood as (type, (1,)) / '(1,)type'.\n",
            "  _np_quint8 = np.dtype([(\"quint8\", np.uint8, 1)])\n",
            "/usr/local/lib/python3.6/dist-packages/tensorflow/python/framework/dtypes.py:518: FutureWarning: Passing (type, 1) or '1type' as a synonym of type is deprecated; in a future version of numpy, it will be understood as (type, (1,)) / '(1,)type'.\n",
            "  _np_qint16 = np.dtype([(\"qint16\", np.int16, 1)])\n",
            "/usr/local/lib/python3.6/dist-packages/tensorflow/python/framework/dtypes.py:519: FutureWarning: Passing (type, 1) or '1type' as a synonym of type is deprecated; in a future version of numpy, it will be understood as (type, (1,)) / '(1,)type'.\n",
            "  _np_quint16 = np.dtype([(\"quint16\", np.uint16, 1)])\n",
            "/usr/local/lib/python3.6/dist-packages/tensorflow/python/framework/dtypes.py:520: FutureWarning: Passing (type, 1) or '1type' as a synonym of type is deprecated; in a future version of numpy, it will be understood as (type, (1,)) / '(1,)type'.\n",
            "  _np_qint32 = np.dtype([(\"qint32\", np.int32, 1)])\n",
            "/usr/local/lib/python3.6/dist-packages/tensorflow/python/framework/dtypes.py:525: FutureWarning: Passing (type, 1) or '1type' as a synonym of type is deprecated; in a future version of numpy, it will be understood as (type, (1,)) / '(1,)type'.\n",
            "  np_resource = np.dtype([(\"resource\", np.ubyte, 1)])\n",
            "/usr/local/lib/python3.6/dist-packages/tensorboard/compat/tensorflow_stub/dtypes.py:541: FutureWarning: Passing (type, 1) or '1type' as a synonym of type is deprecated; in a future version of numpy, it will be understood as (type, (1,)) / '(1,)type'.\n",
            "  _np_qint8 = np.dtype([(\"qint8\", np.int8, 1)])\n",
            "/usr/local/lib/python3.6/dist-packages/tensorboard/compat/tensorflow_stub/dtypes.py:542: FutureWarning: Passing (type, 1) or '1type' as a synonym of type is deprecated; in a future version of numpy, it will be understood as (type, (1,)) / '(1,)type'.\n",
            "  _np_quint8 = np.dtype([(\"quint8\", np.uint8, 1)])\n",
            "/usr/local/lib/python3.6/dist-packages/tensorboard/compat/tensorflow_stub/dtypes.py:543: FutureWarning: Passing (type, 1) or '1type' as a synonym of type is deprecated; in a future version of numpy, it will be understood as (type, (1,)) / '(1,)type'.\n",
            "  _np_qint16 = np.dtype([(\"qint16\", np.int16, 1)])\n",
            "/usr/local/lib/python3.6/dist-packages/tensorboard/compat/tensorflow_stub/dtypes.py:544: FutureWarning: Passing (type, 1) or '1type' as a synonym of type is deprecated; in a future version of numpy, it will be understood as (type, (1,)) / '(1,)type'.\n",
            "  _np_quint16 = np.dtype([(\"quint16\", np.uint16, 1)])\n",
            "/usr/local/lib/python3.6/dist-packages/tensorboard/compat/tensorflow_stub/dtypes.py:545: FutureWarning: Passing (type, 1) or '1type' as a synonym of type is deprecated; in a future version of numpy, it will be understood as (type, (1,)) / '(1,)type'.\n",
            "  _np_qint32 = np.dtype([(\"qint32\", np.int32, 1)])\n",
            "/usr/local/lib/python3.6/dist-packages/tensorboard/compat/tensorflow_stub/dtypes.py:550: FutureWarning: Passing (type, 1) or '1type' as a synonym of type is deprecated; in a future version of numpy, it will be understood as (type, (1,)) / '(1,)type'.\n",
            "  np_resource = np.dtype([(\"resource\", np.ubyte, 1)])\n",
            "WARNING:tensorflow:From /usr/local/lib/python3.6/dist-packages/tensorflow/python/ops/init_ops.py:1288: calling VarianceScaling.__init__ (from tensorflow.python.ops.init_ops) with dtype is deprecated and will be removed in a future version.\n",
            "Instructions for updating:\n",
            "Call initializer instance with the dtype argument instead of passing it to the constructor\n",
            "WARNING:tensorflow:From /usr/local/lib/python3.6/dist-packages/tensorflow/python/ops/init_ops.py:1288: calling VarianceScaling.__init__ (from tensorflow.python.ops.init_ops) with dtype is deprecated and will be removed in a future version.\n",
            "Instructions for updating:\n",
            "Call initializer instance with the dtype argument instead of passing it to the constructor\n",
            "INFO:arenets.arekit.contrib.utils.io_utils.utils:Check existence [True]: _data/vocab.txt\n",
            "INFO:arenets.arekit.contrib.utils.io_utils.utils:Check existence [True]: _data/term_embedding.npz\n",
            "2023-01-03 22:42:44,118     INFO arenets.pipelines.items.training | Removing old file/dir: _data/cnn\n",
            "INFO:arenets.pipelines.items.training:Removing old file/dir: _data/cnn\n",
            "WARNING:tensorflow:\n",
            "The TensorFlow contrib module will not be included in TensorFlow 2.0.\n",
            "For more information, please see:\n",
            "  * https://github.com/tensorflow/community/blob/master/rfcs/20180907-contrib-sunset.md\n",
            "  * https://github.com/tensorflow/addons\n",
            "  * https://github.com/tensorflow/io (for I/O related ops)\n",
            "If you depend on functionality not listed there, please file an issue.\n",
            "\n",
            "WARNING:tensorflow:\n",
            "The TensorFlow contrib module will not be included in TensorFlow 2.0.\n",
            "For more information, please see:\n",
            "  * https://github.com/tensorflow/community/blob/master/rfcs/20180907-contrib-sunset.md\n",
            "  * https://github.com/tensorflow/addons\n",
            "  * https://github.com/tensorflow/io (for I/O related ops)\n",
            "If you depend on functionality not listed there, please file an issue.\n",
            "\n",
            "INFO:tensorflow:Scale of 0 disables regularizer.\n",
            "INFO:tensorflow:Scale of 0 disables regularizer.\n",
            "WARNING:tensorflow:From /usr/local/lib/python3.6/dist-packages/arenets/context/configurations/base/base.py:190: calling Zeros.__init__ (from tensorflow.python.ops.init_ops) with dtype is deprecated and will be removed in a future version.\n",
            "Instructions for updating:\n",
            "Call initializer instance with the dtype argument instead of passing it to the constructor\n",
            "WARNING:tensorflow:From /usr/local/lib/python3.6/dist-packages/arenets/context/configurations/base/base.py:190: calling Zeros.__init__ (from tensorflow.python.ops.init_ops) with dtype is deprecated and will be removed in a future version.\n",
            "Instructions for updating:\n",
            "Call initializer instance with the dtype argument instead of passing it to the constructor\n",
            "INFO:arenets.arekit.contrib.utils.io_utils.utils:Check existence [True]: _data/sample-train.jsonl\n",
            "INFO:arenets.arekit.contrib.utils.io_utils.utils:Check existence [True]: _data/vocab.txt\n",
            "INFO:arenets.arekit.contrib.utils.io_utils.utils:Check existence [True]: _data/term_embedding.npz\n",
            "INFO:arenets.arekit.contrib.utils.np_utils.embedding:Embedding read [size=(302866, 300)]: _data/term_embedding.npz\n",
            "INFO:arenets.arekit.contrib.utils.np_utils.vocab:Loading vocabulary [size=302866]: _data/vocab.txt\n",
            "Filling bags collection [DataType.Train]: 100it [00:00, 3802.08it/s]\n",
            "WARNING:tensorflow:From /usr/local/lib/python3.6/dist-packages/arenets/context/architectures/base/base.py:335: calling dropout (from tensorflow.python.ops.nn_ops) with keep_prob is deprecated and will be removed in a future version.\n",
            "Instructions for updating:\n",
            "Please use `rate` instead of `keep_prob`. Rate should be set to `rate = 1 - keep_prob`.\n",
            "WARNING:tensorflow:From /usr/local/lib/python3.6/dist-packages/arenets/context/architectures/base/base.py:335: calling dropout (from tensorflow.python.ops.nn_ops) with keep_prob is deprecated and will be removed in a future version.\n",
            "Instructions for updating:\n",
            "Please use `rate` instead of `keep_prob`. Rate should be set to `rate = 1 - keep_prob`.\n",
            "WARNING:tensorflow:From /usr/local/lib/python3.6/dist-packages/tensorflow/python/util/deprecation.py:574: calling conv1d (from tensorflow.python.ops.nn_ops) with data_format=NHWC is deprecated and will be removed in a future version.\n",
            "Instructions for updating:\n",
            "`NHWC` for data_format is deprecated, use `NWC` instead\n",
            "WARNING:tensorflow:From /usr/local/lib/python3.6/dist-packages/tensorflow/python/util/deprecation.py:574: calling conv1d (from tensorflow.python.ops.nn_ops) with data_format=NHWC is deprecated and will be removed in a future version.\n",
            "Instructions for updating:\n",
            "`NHWC` for data_format is deprecated, use `NWC` instead\n",
            "WARNING:tensorflow:From /usr/local/lib/python3.6/dist-packages/arenets/context/architectures/cnn.py:59: The name tf.nn.max_pool is deprecated. Please use tf.nn.max_pool2d instead.\n",
            "\n",
            "WARNING:tensorflow:From /usr/local/lib/python3.6/dist-packages/arenets/context/architectures/cnn.py:59: The name tf.nn.max_pool is deprecated. Please use tf.nn.max_pool2d instead.\n",
            "\n",
            "INFO:arenets.core.model:Minibatches passing per epoch count: ~3 (Might be greater or equal, as the last bag is expanded)\n",
            "Training [DataType.Train]: 4mbs [00:03,  1.08mbs/s]\n",
            "INFO:arenets.np_utils.writer:Save: _data/cnn/hidden/hparams_C_e1\n",
            "INFO:arenets.np_utils.writer:Save: _data/cnn/hidden/hparams_W_e1\n",
            "INFO:arenets.np_utils.writer:Save: _data/cnn/hidden/hparams_b_e1\n",
            "INFO:arenets.np_utils.writer:Save: _data/cnn/hidden/hparams_W2_e1\n",
            "INFO:arenets.np_utils.writer:Save: _data/cnn/hidden/hparams_b2_e1\n",
            "INFO:arenets.np_utils.writer:Save: _data/cnn/hidden/idparams_x-DataType.Train_e1\n",
            "INFO:arenets.np_utils.writer:Save: _data/cnn/hidden/idparams_obj_ind-DataType.Train_e1\n",
            "INFO:arenets.np_utils.writer:Save: _data/cnn/hidden/idparams_subj_ind-DataType.Train_e1\n",
            "INFO:arenets.np_utils.writer:Save: _data/cnn/hidden/idparams_frame_inds-DataType.Train_e1\n",
            "INFO:arenets.np_utils.writer:Save: _data/cnn/hidden/idparams_frame_connotation_inds-DataType.Train_e1\n",
            "INFO:arenets.np_utils.writer:Save: _data/cnn/hidden/idparams_y_labels-DataType.Train_e1\n",
            "INFO:arenets.np_utils.writer:Save: _data/cnn/hidden/idparams_y_etalon_labels-DataType.Train_e1\n",
            "INFO:arenets.core.callback.stat:2023-01-03 22:42:54.607400: Epoch: 1: avg_loss: 55.581, avg_acc: 0.664\n",
            "INFO:arenets.tf_helpers.nn_states:Update TensorFlow model state: _data/cnn/cnn\n",
            "INFO:arenets.core.model:Minibatches passing per epoch count: ~3 (Might be greater or equal, as the last bag is expanded)\n",
            "Training [DataType.Train]: 4mbs [00:00,  8.95mbs/s]\n",
            "INFO:arenets.np_utils.writer:Save: _data/cnn/hidden/hparams_C_e2\n",
            "INFO:arenets.np_utils.writer:Save: _data/cnn/hidden/hparams_W_e2\n",
            "INFO:arenets.np_utils.writer:Save: _data/cnn/hidden/hparams_b_e2\n",
            "INFO:arenets.np_utils.writer:Save: _data/cnn/hidden/hparams_W2_e2\n",
            "INFO:arenets.np_utils.writer:Save: _data/cnn/hidden/hparams_b2_e2\n",
            "INFO:arenets.np_utils.writer:Save: _data/cnn/hidden/idparams_x-DataType.Train_e2\n",
            "INFO:arenets.np_utils.writer:Save: _data/cnn/hidden/idparams_obj_ind-DataType.Train_e2\n",
            "INFO:arenets.np_utils.writer:Save: _data/cnn/hidden/idparams_subj_ind-DataType.Train_e2\n",
            "INFO:arenets.np_utils.writer:Save: _data/cnn/hidden/idparams_frame_inds-DataType.Train_e2\n",
            "INFO:arenets.np_utils.writer:Save: _data/cnn/hidden/idparams_frame_connotation_inds-DataType.Train_e2\n",
            "INFO:arenets.np_utils.writer:Save: _data/cnn/hidden/idparams_y_labels-DataType.Train_e2\n",
            "INFO:arenets.np_utils.writer:Save: _data/cnn/hidden/idparams_y_etalon_labels-DataType.Train_e2\n",
            "INFO:arenets.core.callback.stat:2023-01-03 22:42:55.120387: Epoch: 2: avg_loss: 45.548, avg_acc: 0.617\n",
            "INFO:arenets.tf_helpers.nn_states:Update TensorFlow model state: _data/cnn/cnn\n",
            "INFO:arenets.core.model:Minibatches passing per epoch count: ~3 (Might be greater or equal, as the last bag is expanded)\n",
            "Training [DataType.Train]: 4mbs [00:00,  9.34mbs/s]                                                                     \n",
            "INFO:arenets.np_utils.writer:Save: _data/cnn/hidden/hparams_C_e3\n",
            "INFO:arenets.np_utils.writer:Save: _data/cnn/hidden/hparams_W_e3\n",
            "INFO:arenets.np_utils.writer:Save: _data/cnn/hidden/hparams_b_e3\n",
            "INFO:arenets.np_utils.writer:Save: _data/cnn/hidden/hparams_W2_e3\n",
            "INFO:arenets.np_utils.writer:Save: _data/cnn/hidden/hparams_b2_e3\n",
            "INFO:arenets.np_utils.writer:Save: _data/cnn/hidden/idparams_x-DataType.Train_e3\n",
            "INFO:arenets.np_utils.writer:Save: _data/cnn/hidden/idparams_obj_ind-DataType.Train_e3\n",
            "INFO:arenets.np_utils.writer:Save: _data/cnn/hidden/idparams_subj_ind-DataType.Train_e3\n",
            "INFO:arenets.np_utils.writer:Save: _data/cnn/hidden/idparams_frame_inds-DataType.Train_e3\n",
            "INFO:arenets.np_utils.writer:Save: _data/cnn/hidden/idparams_frame_connotation_inds-DataType.Train_e3\n",
            "INFO:arenets.np_utils.writer:Save: _data/cnn/hidden/idparams_y_labels-DataType.Train_e3\n",
            "INFO:arenets.np_utils.writer:Save: _data/cnn/hidden/idparams_y_etalon_labels-DataType.Train_e3\n",
            "INFO:arenets.core.callback.stat:2023-01-03 22:42:55.569653: Epoch: 3: avg_loss: 38.399, avg_acc: 0.625\n",
            "INFO:arenets.tf_helpers.nn_states:Update TensorFlow model state: _data/cnn/cnn\n",
            "INFO:arenets.core.model:Minibatches passing per epoch count: ~3 (Might be greater or equal, as the last bag is expanded)\n",
            "Training [DataType.Train]: 4mbs [00:00,  8.90mbs/s]\n",
            "INFO:arenets.np_utils.writer:Save: _data/cnn/hidden/hparams_C_e4\n",
            "INFO:arenets.np_utils.writer:Save: _data/cnn/hidden/hparams_W_e4\n",
            "INFO:arenets.np_utils.writer:Save: _data/cnn/hidden/hparams_b_e4\n",
            "INFO:arenets.np_utils.writer:Save: _data/cnn/hidden/hparams_W2_e4\n",
            "INFO:arenets.np_utils.writer:Save: _data/cnn/hidden/hparams_b2_e4\n",
            "INFO:arenets.np_utils.writer:Save: _data/cnn/hidden/idparams_x-DataType.Train_e4\n",
            "INFO:arenets.np_utils.writer:Save: _data/cnn/hidden/idparams_obj_ind-DataType.Train_e4\n",
            "INFO:arenets.np_utils.writer:Save: _data/cnn/hidden/idparams_subj_ind-DataType.Train_e4\n",
            "INFO:arenets.np_utils.writer:Save: _data/cnn/hidden/idparams_frame_inds-DataType.Train_e4\n",
            "INFO:arenets.np_utils.writer:Save: _data/cnn/hidden/idparams_frame_connotation_inds-DataType.Train_e4\n",
            "INFO:arenets.np_utils.writer:Save: _data/cnn/hidden/idparams_y_labels-DataType.Train_e4\n",
            "INFO:arenets.np_utils.writer:Save: _data/cnn/hidden/idparams_y_etalon_labels-DataType.Train_e4\n",
            "INFO:arenets.core.callback.stat:2023-01-03 22:42:56.043213: Epoch: 4: avg_loss: 34.699, avg_acc: 0.648\n",
            "INFO:arenets.tf_helpers.nn_states:Update TensorFlow model state: _data/cnn/cnn\n",
            "INFO:arenets.core.model:Minibatches passing per epoch count: ~3 (Might be greater or equal, as the last bag is expanded)\n",
            "Training [DataType.Train]: 4mbs [00:00,  9.42mbs/s]\n",
            "INFO:arenets.np_utils.writer:Save: _data/cnn/hidden/hparams_C_e5\n",
            "INFO:arenets.np_utils.writer:Save: _data/cnn/hidden/hparams_W_e5\n",
            "INFO:arenets.np_utils.writer:Save: _data/cnn/hidden/hparams_b_e5\n",
            "INFO:arenets.np_utils.writer:Save: _data/cnn/hidden/hparams_W2_e5\n",
            "INFO:arenets.np_utils.writer:Save: _data/cnn/hidden/hparams_b2_e5\n",
            "INFO:arenets.np_utils.writer:Save: _data/cnn/hidden/idparams_x-DataType.Train_e5\n",
            "INFO:arenets.np_utils.writer:Save: _data/cnn/hidden/idparams_obj_ind-DataType.Train_e5\n",
            "INFO:arenets.np_utils.writer:Save: _data/cnn/hidden/idparams_subj_ind-DataType.Train_e5\n",
            "INFO:arenets.np_utils.writer:Save: _data/cnn/hidden/idparams_frame_inds-DataType.Train_e5\n",
            "INFO:arenets.np_utils.writer:Save: _data/cnn/hidden/idparams_frame_connotation_inds-DataType.Train_e5\n",
            "INFO:arenets.np_utils.writer:Save: _data/cnn/hidden/idparams_y_labels-DataType.Train_e5\n",
            "INFO:arenets.np_utils.writer:Save: _data/cnn/hidden/idparams_y_etalon_labels-DataType.Train_e5\n",
            "INFO:arenets.core.callback.stat:2023-01-03 22:42:56.489877: Epoch: 5: avg_loss: 32.782, avg_acc: 0.648\n",
            "INFO:arenets.tf_helpers.nn_states:Update TensorFlow model state: _data/cnn/cnn\n",
            "INFO:arenets.core.model:Minibatches passing per epoch count: ~3 (Might be greater or equal, as the last bag is expanded)\n",
            "Training [DataType.Train]: 4mbs [00:00,  9.24mbs/s]\n",
            "INFO:arenets.np_utils.writer:Save: _data/cnn/hidden/hparams_C_e6\n",
            "INFO:arenets.np_utils.writer:Save: _data/cnn/hidden/hparams_W_e6\n",
            "INFO:arenets.np_utils.writer:Save: _data/cnn/hidden/hparams_b_e6\n",
            "INFO:arenets.np_utils.writer:Save: _data/cnn/hidden/hparams_W2_e6\n",
            "INFO:arenets.np_utils.writer:Save: _data/cnn/hidden/hparams_b2_e6\n",
            "INFO:arenets.np_utils.writer:Save: _data/cnn/hidden/idparams_x-DataType.Train_e6\n",
            "INFO:arenets.np_utils.writer:Save: _data/cnn/hidden/idparams_obj_ind-DataType.Train_e6\n",
            "INFO:arenets.np_utils.writer:Save: _data/cnn/hidden/idparams_subj_ind-DataType.Train_e6\n",
            "INFO:arenets.np_utils.writer:Save: _data/cnn/hidden/idparams_frame_inds-DataType.Train_e6\n",
            "INFO:arenets.np_utils.writer:Save: _data/cnn/hidden/idparams_frame_connotation_inds-DataType.Train_e6\n",
            "INFO:arenets.np_utils.writer:Save: _data/cnn/hidden/idparams_y_labels-DataType.Train_e6\n",
            "INFO:arenets.np_utils.writer:Save: _data/cnn/hidden/idparams_y_etalon_labels-DataType.Train_e6\n",
            "INFO:arenets.core.callback.stat:2023-01-03 22:42:56.947826: Epoch: 6: avg_loss: 32.658, avg_acc: 0.633\n",
            "INFO:arenets.tf_helpers.nn_states:Update TensorFlow model state: _data/cnn/cnn\n",
            "INFO:arenets.core.model:Minibatches passing per epoch count: ~3 (Might be greater or equal, as the last bag is expanded)\n",
            "Training [DataType.Train]: 4mbs [00:00,  9.34mbs/s]\n",
            "INFO:arenets.np_utils.writer:Save: _data/cnn/hidden/hparams_C_e7\n",
            "INFO:arenets.np_utils.writer:Save: _data/cnn/hidden/hparams_W_e7\n",
            "INFO:arenets.np_utils.writer:Save: _data/cnn/hidden/hparams_b_e7\n",
            "INFO:arenets.np_utils.writer:Save: _data/cnn/hidden/hparams_W2_e7\n",
            "INFO:arenets.np_utils.writer:Save: _data/cnn/hidden/hparams_b2_e7\n",
            "INFO:arenets.np_utils.writer:Save: _data/cnn/hidden/idparams_x-DataType.Train_e7\n",
            "INFO:arenets.np_utils.writer:Save: _data/cnn/hidden/idparams_obj_ind-DataType.Train_e7\n",
            "INFO:arenets.np_utils.writer:Save: _data/cnn/hidden/idparams_subj_ind-DataType.Train_e7\n",
            "INFO:arenets.np_utils.writer:Save: _data/cnn/hidden/idparams_frame_inds-DataType.Train_e7\n",
            "INFO:arenets.np_utils.writer:Save: _data/cnn/hidden/idparams_frame_connotation_inds-DataType.Train_e7\n",
            "INFO:arenets.np_utils.writer:Save: _data/cnn/hidden/idparams_y_labels-DataType.Train_e7\n",
            "INFO:arenets.np_utils.writer:Save: _data/cnn/hidden/idparams_y_etalon_labels-DataType.Train_e7\n",
            "INFO:arenets.core.callback.stat:2023-01-03 22:42:57.397118: Epoch: 7: avg_loss: 31.337, avg_acc: 0.617\n",
            "INFO:arenets.tf_helpers.nn_states:Update TensorFlow model state: _data/cnn/cnn\n",
            "INFO:arenets.core.model:Minibatches passing per epoch count: ~3 (Might be greater or equal, as the last bag is expanded)\n",
            "Training [DataType.Train]: 4mbs [00:00,  8.97mbs/s]\n",
            "INFO:arenets.np_utils.writer:Save: _data/cnn/hidden/hparams_C_e8\n",
            "INFO:arenets.np_utils.writer:Save: _data/cnn/hidden/hparams_W_e8\n",
            "INFO:arenets.np_utils.writer:Save: _data/cnn/hidden/hparams_b_e8\n",
            "INFO:arenets.np_utils.writer:Save: _data/cnn/hidden/hparams_W2_e8\n",
            "INFO:arenets.np_utils.writer:Save: _data/cnn/hidden/hparams_b2_e8\n",
            "INFO:arenets.np_utils.writer:Save: _data/cnn/hidden/idparams_x-DataType.Train_e8\n",
            "INFO:arenets.np_utils.writer:Save: _data/cnn/hidden/idparams_obj_ind-DataType.Train_e8\n",
            "INFO:arenets.np_utils.writer:Save: _data/cnn/hidden/idparams_subj_ind-DataType.Train_e8\n",
            "INFO:arenets.np_utils.writer:Save: _data/cnn/hidden/idparams_frame_inds-DataType.Train_e8\n",
            "INFO:arenets.np_utils.writer:Save: _data/cnn/hidden/idparams_frame_connotation_inds-DataType.Train_e8\n",
            "INFO:arenets.np_utils.writer:Save: _data/cnn/hidden/idparams_y_labels-DataType.Train_e8\n",
            "INFO:arenets.np_utils.writer:Save: _data/cnn/hidden/idparams_y_etalon_labels-DataType.Train_e8\n",
            "INFO:arenets.core.callback.stat:2023-01-03 22:42:57.863293: Epoch: 8: avg_loss: 28.634, avg_acc: 0.648\n",
            "INFO:arenets.tf_helpers.nn_states:Update TensorFlow model state: _data/cnn/cnn\n",
            "INFO:arenets.core.model:Minibatches passing per epoch count: ~3 (Might be greater or equal, as the last bag is expanded)\n",
            "Training [DataType.Train]: 4mbs [00:00,  9.15mbs/s]\n",
            "INFO:arenets.np_utils.writer:Save: _data/cnn/hidden/hparams_C_e9\n",
            "INFO:arenets.np_utils.writer:Save: _data/cnn/hidden/hparams_W_e9\n",
            "INFO:arenets.np_utils.writer:Save: _data/cnn/hidden/hparams_b_e9\n",
            "INFO:arenets.np_utils.writer:Save: _data/cnn/hidden/hparams_W2_e9\n",
            "INFO:arenets.np_utils.writer:Save: _data/cnn/hidden/hparams_b2_e9\n",
            "INFO:arenets.np_utils.writer:Save: _data/cnn/hidden/idparams_x-DataType.Train_e9\n",
            "INFO:arenets.np_utils.writer:Save: _data/cnn/hidden/idparams_obj_ind-DataType.Train_e9\n",
            "INFO:arenets.np_utils.writer:Save: _data/cnn/hidden/idparams_subj_ind-DataType.Train_e9\n",
            "INFO:arenets.np_utils.writer:Save: _data/cnn/hidden/idparams_frame_inds-DataType.Train_e9\n",
            "INFO:arenets.np_utils.writer:Save: _data/cnn/hidden/idparams_frame_connotation_inds-DataType.Train_e9\n",
            "INFO:arenets.np_utils.writer:Save: _data/cnn/hidden/idparams_y_labels-DataType.Train_e9\n",
            "INFO:arenets.np_utils.writer:Save: _data/cnn/hidden/idparams_y_etalon_labels-DataType.Train_e9\n",
            "INFO:arenets.core.callback.stat:2023-01-03 22:42:58.320665: Epoch: 9: avg_loss: 27.24, avg_acc: 0.672\n",
            "INFO:arenets.tf_helpers.nn_states:Update TensorFlow model state: _data/cnn/cnn\n",
            "INFO:arenets.core.model:Minibatches passing per epoch count: ~3 (Might be greater or equal, as the last bag is expanded)\n",
            "Training [DataType.Train]: 4mbs [00:00,  9.18mbs/s]\n",
            "INFO:arenets.np_utils.writer:Save: _data/cnn/hidden/hparams_C_e10\n",
            "INFO:arenets.np_utils.writer:Save: _data/cnn/hidden/hparams_W_e10\n",
            "INFO:arenets.np_utils.writer:Save: _data/cnn/hidden/hparams_b_e10\n",
            "INFO:arenets.np_utils.writer:Save: _data/cnn/hidden/hparams_W2_e10\n",
            "INFO:arenets.np_utils.writer:Save: _data/cnn/hidden/hparams_b2_e10\n",
            "INFO:arenets.np_utils.writer:Save: _data/cnn/hidden/idparams_x-DataType.Train_e10\n",
            "INFO:arenets.np_utils.writer:Save: _data/cnn/hidden/idparams_obj_ind-DataType.Train_e10\n",
            "INFO:arenets.np_utils.writer:Save: _data/cnn/hidden/idparams_subj_ind-DataType.Train_e10\n",
            "INFO:arenets.np_utils.writer:Save: _data/cnn/hidden/idparams_frame_inds-DataType.Train_e10\n",
            "INFO:arenets.np_utils.writer:Save: _data/cnn/hidden/idparams_frame_connotation_inds-DataType.Train_e10\n",
            "INFO:arenets.np_utils.writer:Save: _data/cnn/hidden/idparams_y_labels-DataType.Train_e10\n",
            "INFO:arenets.np_utils.writer:Save: _data/cnn/hidden/idparams_y_etalon_labels-DataType.Train_e10\n",
            "INFO:arenets.core.callback.stat:2023-01-03 22:42:58.779572: Epoch: 10: avg_loss: 27.209, avg_acc: 0.648\n",
            "INFO:arenets.tf_helpers.nn_states:Update TensorFlow model state: _data/cnn/cnn\n"
          ]
        }
      ]
    },
    {
      "cell_type": "markdown",
      "source": [
        "## Predict\n",
        "\n",
        "Please, use files in order to open up `predict.py` and customize prediction script for your needs.\n"
      ],
      "metadata": {
        "id": "jwPyLMzPmZlX"
      }
    },
    {
      "cell_type": "code",
      "source": [
        "%cd \"/content\"\n",
        "!python predict.py"
      ],
      "metadata": {
        "colab": {
          "base_uri": "https://localhost:8080/"
        },
        "id": "AtDHlgDv0CHe",
        "outputId": "16546479-4b9c-4729-f182-e17e3d84150f"
      },
      "execution_count": 27,
      "outputs": [
        {
          "output_type": "stream",
          "name": "stdout",
          "text": [
            "/content\n",
            "/usr/local/lib/python3.6/dist-packages/tensorflow/python/framework/dtypes.py:516: FutureWarning: Passing (type, 1) or '1type' as a synonym of type is deprecated; in a future version of numpy, it will be understood as (type, (1,)) / '(1,)type'.\n",
            "  _np_qint8 = np.dtype([(\"qint8\", np.int8, 1)])\n",
            "/usr/local/lib/python3.6/dist-packages/tensorflow/python/framework/dtypes.py:517: FutureWarning: Passing (type, 1) or '1type' as a synonym of type is deprecated; in a future version of numpy, it will be understood as (type, (1,)) / '(1,)type'.\n",
            "  _np_quint8 = np.dtype([(\"quint8\", np.uint8, 1)])\n",
            "/usr/local/lib/python3.6/dist-packages/tensorflow/python/framework/dtypes.py:518: FutureWarning: Passing (type, 1) or '1type' as a synonym of type is deprecated; in a future version of numpy, it will be understood as (type, (1,)) / '(1,)type'.\n",
            "  _np_qint16 = np.dtype([(\"qint16\", np.int16, 1)])\n",
            "/usr/local/lib/python3.6/dist-packages/tensorflow/python/framework/dtypes.py:519: FutureWarning: Passing (type, 1) or '1type' as a synonym of type is deprecated; in a future version of numpy, it will be understood as (type, (1,)) / '(1,)type'.\n",
            "  _np_quint16 = np.dtype([(\"quint16\", np.uint16, 1)])\n",
            "/usr/local/lib/python3.6/dist-packages/tensorflow/python/framework/dtypes.py:520: FutureWarning: Passing (type, 1) or '1type' as a synonym of type is deprecated; in a future version of numpy, it will be understood as (type, (1,)) / '(1,)type'.\n",
            "  _np_qint32 = np.dtype([(\"qint32\", np.int32, 1)])\n",
            "/usr/local/lib/python3.6/dist-packages/tensorflow/python/framework/dtypes.py:525: FutureWarning: Passing (type, 1) or '1type' as a synonym of type is deprecated; in a future version of numpy, it will be understood as (type, (1,)) / '(1,)type'.\n",
            "  np_resource = np.dtype([(\"resource\", np.ubyte, 1)])\n",
            "/usr/local/lib/python3.6/dist-packages/tensorboard/compat/tensorflow_stub/dtypes.py:541: FutureWarning: Passing (type, 1) or '1type' as a synonym of type is deprecated; in a future version of numpy, it will be understood as (type, (1,)) / '(1,)type'.\n",
            "  _np_qint8 = np.dtype([(\"qint8\", np.int8, 1)])\n",
            "/usr/local/lib/python3.6/dist-packages/tensorboard/compat/tensorflow_stub/dtypes.py:542: FutureWarning: Passing (type, 1) or '1type' as a synonym of type is deprecated; in a future version of numpy, it will be understood as (type, (1,)) / '(1,)type'.\n",
            "  _np_quint8 = np.dtype([(\"quint8\", np.uint8, 1)])\n",
            "/usr/local/lib/python3.6/dist-packages/tensorboard/compat/tensorflow_stub/dtypes.py:543: FutureWarning: Passing (type, 1) or '1type' as a synonym of type is deprecated; in a future version of numpy, it will be understood as (type, (1,)) / '(1,)type'.\n",
            "  _np_qint16 = np.dtype([(\"qint16\", np.int16, 1)])\n",
            "/usr/local/lib/python3.6/dist-packages/tensorboard/compat/tensorflow_stub/dtypes.py:544: FutureWarning: Passing (type, 1) or '1type' as a synonym of type is deprecated; in a future version of numpy, it will be understood as (type, (1,)) / '(1,)type'.\n",
            "  _np_quint16 = np.dtype([(\"quint16\", np.uint16, 1)])\n",
            "/usr/local/lib/python3.6/dist-packages/tensorboard/compat/tensorflow_stub/dtypes.py:545: FutureWarning: Passing (type, 1) or '1type' as a synonym of type is deprecated; in a future version of numpy, it will be understood as (type, (1,)) / '(1,)type'.\n",
            "  _np_qint32 = np.dtype([(\"qint32\", np.int32, 1)])\n",
            "/usr/local/lib/python3.6/dist-packages/tensorboard/compat/tensorflow_stub/dtypes.py:550: FutureWarning: Passing (type, 1) or '1type' as a synonym of type is deprecated; in a future version of numpy, it will be understood as (type, (1,)) / '(1,)type'.\n",
            "  np_resource = np.dtype([(\"resource\", np.ubyte, 1)])\n",
            "WARNING:tensorflow:From /usr/local/lib/python3.6/dist-packages/tensorflow/python/ops/init_ops.py:1288: calling VarianceScaling.__init__ (from tensorflow.python.ops.init_ops) with dtype is deprecated and will be removed in a future version.\n",
            "Instructions for updating:\n",
            "Call initializer instance with the dtype argument instead of passing it to the constructor\n",
            "INFO:arenets.arekit.contrib.utils.io_utils.utils:Check existence [True]: _data/vocab.txt\n",
            "INFO:arenets.arekit.contrib.utils.io_utils.utils:Check existence [True]: _data/term_embedding.npz\n",
            "INFO:arenets.arekit.contrib.utils.np_utils.embedding:Embedding read [size=(302866, 300)]: _data/term_embedding.npz\n",
            "INFO:arenets.arekit.contrib.utils.np_utils.vocab:Loading vocabulary [size=302866]: _data/vocab.txt\n",
            "Filling bags collection [DataType.Test]: 64it [00:00, 4397.27it/s]\n",
            "WARNING:tensorflow:From /usr/local/lib/python3.6/dist-packages/arenets/context/architectures/base/base.py:335: calling dropout (from tensorflow.python.ops.nn_ops) with keep_prob is deprecated and will be removed in a future version.\n",
            "Instructions for updating:\n",
            "Please use `rate` instead of `keep_prob`. Rate should be set to `rate = 1 - keep_prob`.\n",
            "WARNING:tensorflow:From /usr/local/lib/python3.6/dist-packages/tensorflow/python/util/deprecation.py:574: calling conv1d (from tensorflow.python.ops.nn_ops) with data_format=NHWC is deprecated and will be removed in a future version.\n",
            "Instructions for updating:\n",
            "`NHWC` for data_format is deprecated, use `NWC` instead\n",
            "WARNING:tensorflow:From /usr/local/lib/python3.6/dist-packages/arenets/context/architectures/cnn.py:59: The name tf.nn.max_pool is deprecated. Please use tf.nn.max_pool2d instead.\n",
            "\n",
            "2023-01-03 22:44:03.121093: I tensorflow/core/platform/cpu_feature_guard.cc:142] Your CPU supports instructions that this TensorFlow binary was not compiled to use: AVX2 FMA\n",
            "2023-01-03 22:44:03.125750: I tensorflow/stream_executor/platform/default/dso_loader.cc:42] Successfully opened dynamic library libcuda.so.1\n",
            "2023-01-03 22:44:03.887516: I tensorflow/stream_executor/cuda/cuda_gpu_executor.cc:1005] successful NUMA node read from SysFS had negative value (-1), but there must be at least one NUMA node, so returning NUMA node zero\n",
            "2023-01-03 22:44:03.888263: I tensorflow/compiler/xla/service/service.cc:168] XLA service 0x241ae00 executing computations on platform CUDA. Devices:\n",
            "2023-01-03 22:44:03.888295: I tensorflow/compiler/xla/service/service.cc:175]   StreamExecutor device (0): Tesla T4, Compute Capability 7.5\n",
            "2023-01-03 22:44:03.889988: I tensorflow/core/platform/profile_utils/cpu_utils.cc:94] CPU Frequency: 2199995000 Hz\n",
            "2023-01-03 22:44:03.890228: I tensorflow/compiler/xla/service/service.cc:168] XLA service 0x241ba40 executing computations on platform Host. Devices:\n",
            "2023-01-03 22:44:03.890276: I tensorflow/compiler/xla/service/service.cc:175]   StreamExecutor device (0): <undefined>, <undefined>\n",
            "2023-01-03 22:44:03.890426: I tensorflow/stream_executor/cuda/cuda_gpu_executor.cc:1005] successful NUMA node read from SysFS had negative value (-1), but there must be at least one NUMA node, so returning NUMA node zero\n",
            "2023-01-03 22:44:03.890984: I tensorflow/core/common_runtime/gpu/gpu_device.cc:1640] Found device 0 with properties: \n",
            "name: Tesla T4 major: 7 minor: 5 memoryClockRate(GHz): 1.59\n",
            "pciBusID: 0000:00:04.0\n",
            "2023-01-03 22:44:03.891105: I tensorflow/stream_executor/platform/default/dso_loader.cc:53] Could not dlopen library 'libcudart.so.10.0'; dlerror: libcudart.so.10.0: cannot open shared object file: No such file or directory; LD_LIBRARY_PATH: /usr/lib64-nvidia\n",
            "2023-01-03 22:44:03.891177: I tensorflow/stream_executor/platform/default/dso_loader.cc:53] Could not dlopen library 'libcublas.so.10.0'; dlerror: libcublas.so.10.0: cannot open shared object file: No such file or directory; LD_LIBRARY_PATH: /usr/lib64-nvidia\n",
            "2023-01-03 22:44:03.891243: I tensorflow/stream_executor/platform/default/dso_loader.cc:53] Could not dlopen library 'libcufft.so.10.0'; dlerror: libcufft.so.10.0: cannot open shared object file: No such file or directory; LD_LIBRARY_PATH: /usr/lib64-nvidia\n",
            "2023-01-03 22:44:03.891319: I tensorflow/stream_executor/platform/default/dso_loader.cc:53] Could not dlopen library 'libcurand.so.10.0'; dlerror: libcurand.so.10.0: cannot open shared object file: No such file or directory; LD_LIBRARY_PATH: /usr/lib64-nvidia\n",
            "2023-01-03 22:44:03.891387: I tensorflow/stream_executor/platform/default/dso_loader.cc:53] Could not dlopen library 'libcusolver.so.10.0'; dlerror: libcusolver.so.10.0: cannot open shared object file: No such file or directory; LD_LIBRARY_PATH: /usr/lib64-nvidia\n",
            "2023-01-03 22:44:03.891456: I tensorflow/stream_executor/platform/default/dso_loader.cc:53] Could not dlopen library 'libcusparse.so.10.0'; dlerror: libcusparse.so.10.0: cannot open shared object file: No such file or directory; LD_LIBRARY_PATH: /usr/lib64-nvidia\n",
            "2023-01-03 22:44:03.891539: I tensorflow/stream_executor/platform/default/dso_loader.cc:53] Could not dlopen library 'libcudnn.so.7'; dlerror: libcudnn.so.7: cannot open shared object file: No such file or directory; LD_LIBRARY_PATH: /usr/lib64-nvidia\n",
            "2023-01-03 22:44:03.891557: W tensorflow/core/common_runtime/gpu/gpu_device.cc:1663] Cannot dlopen some GPU libraries. Skipping registering GPU devices...\n",
            "2023-01-03 22:44:03.891587: I tensorflow/core/common_runtime/gpu/gpu_device.cc:1181] Device interconnect StreamExecutor with strength 1 edge matrix:\n",
            "2023-01-03 22:44:03.891602: I tensorflow/core/common_runtime/gpu/gpu_device.cc:1187]      0 \n",
            "2023-01-03 22:44:03.891616: I tensorflow/core/common_runtime/gpu/gpu_device.cc:1200] 0:   N \n",
            "2023-01-03 22:44:03.908900: W tensorflow/compiler/jit/mark_for_compilation_pass.cc:1412] (One-time warning): Not using XLA:CPU for cluster because envvar TF_XLA_FLAGS=--tf_xla_cpu_global_jit was not set.  If you want XLA:CPU, either set that envvar, or use experimental_jit_scope to enable XLA:CPU.  To confirm that XLA is active, pass --vmodule=xla_compilation_cache=1 (as a proper command-line flag, not via TF_XLA_FLAGS) or set the envvar XLA_FLAGS=--xla_hlo_profile.\n",
            "INFO:arenets.tf_helpers.nn_states:----------------------------------\n",
            "INFO:arenets.tf_helpers.nn_states:Loading Tensorflow model state: _data/cnn/\n",
            "INFO:arenets.tf_helpers.nn_states:----------------------------------\n",
            "WARNING:tensorflow:From /usr/local/lib/python3.6/dist-packages/tensorflow/python/training/saver.py:1276: checkpoint_exists (from tensorflow.python.training.checkpoint_management) is deprecated and will be removed in a future version.\n",
            "Instructions for updating:\n",
            "Use standard file APIs to check for files with this prefix.\n",
            "INFO:tensorflow:Restoring parameters from _data/cnn/cnn\n",
            "INFO:arenets.core.model:Minibatches passing per epoch count: ~2 (Might be greater or equal, as the last bag is expanded)\n",
            "Predict [DataType.Test]:   0%|                                                                   | 0/2 [00:00<?, ?mbs/s]2023-01-03 22:44:03.948390: W tensorflow/core/framework/allocator.cc:107] Allocation of 363439200 exceeds 10% of system memory.\n",
            "2023-01-03 22:44:04.031654: W tensorflow/core/framework/allocator.cc:107] Allocation of 363439200 exceeds 10% of system memory.\n",
            "2023-01-03 22:44:04.110963: W tensorflow/core/framework/allocator.cc:107] Allocation of 363439200 exceeds 10% of system memory.\n",
            "2023-01-03 22:44:04.342197: W tensorflow/core/framework/allocator.cc:107] Allocation of 363439200 exceeds 10% of system memory.\n",
            "2023-01-03 22:44:04.425430: W tensorflow/core/framework/allocator.cc:107] Allocation of 363439200 exceeds 10% of system memory.\n",
            "Predict [DataType.Test]: 3mbs [00:01,  2.21mbs/s]                                                                       \n",
            "INFO:arenets.np_utils.writer:Save: _data/cnn/hidden/hparams_C\n",
            "INFO:arenets.np_utils.writer:Save: _data/cnn/hidden/hparams_W\n",
            "INFO:arenets.np_utils.writer:Save: _data/cnn/hidden/hparams_b\n",
            "INFO:arenets.np_utils.writer:Save: _data/cnn/hidden/hparams_W2\n",
            "INFO:arenets.np_utils.writer:Save: _data/cnn/hidden/hparams_b2\n",
            "INFO:arenets.np_utils.writer:Save: _data/cnn/hidden/idparams_x-DataType.Test\n",
            "INFO:arenets.np_utils.writer:Save: _data/cnn/hidden/idparams_obj_ind-DataType.Test\n",
            "INFO:arenets.np_utils.writer:Save: _data/cnn/hidden/idparams_subj_ind-DataType.Test\n",
            "INFO:arenets.np_utils.writer:Save: _data/cnn/hidden/idparams_frame_inds-DataType.Test\n",
            "INFO:arenets.np_utils.writer:Save: _data/cnn/hidden/idparams_frame_connotation_inds-DataType.Test\n",
            "INFO:arenets.np_utils.writer:Save: _data/cnn/hidden/idparams_y_labels-DataType.Test\n",
            "INFO:arenets.np_utils.writer:Save: _data/cnn/hidden/idparams_y_etalon_labels-DataType.Test\n",
            "Writing output: 64rows [00:00, 166730.10rows/s]\n"
          ]
        }
      ]
    }
  ]
}