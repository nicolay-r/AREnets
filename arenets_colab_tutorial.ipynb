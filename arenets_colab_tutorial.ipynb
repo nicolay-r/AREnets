{
  "nbformat": 4,
  "nbformat_minor": 0,
  "metadata": {
    "colab": {
      "provenance": [],
      "authorship_tag": "ABX9TyNY3jp7+LXmGeE8wrEBGpD1",
      "include_colab_link": true
    },
    "kernelspec": {
      "name": "python3",
      "display_name": "Python 3"
    },
    "language_info": {
      "name": "python"
    },
    "gpuClass": "standard",
    "accelerator": "GPU"
  },
  "cells": [
    {
      "cell_type": "markdown",
      "metadata": {
        "id": "view-in-github",
        "colab_type": "text"
      },
      "source": [
        "<a href=\"https://colab.research.google.com/github/nicolay-r/AREnets/blob/master/arenets_colab_tutorial.ipynb\" target=\"_parent\"><img src=\"https://colab.research.google.com/assets/colab-badge.svg\" alt=\"Open In Colab\"/></a>"
      ]
    },
    {
      "cell_type": "markdown",
      "source": [
        "# AREnets colab quick start tutorial\n",
        "\n",
        "## Setup Python 3.6.9 Environment\n",
        "In this section we setup `python-3.6` requireed by tensorflow version `1.14.0`"
      ],
      "metadata": {
        "id": "GFtrYfHLn9Gn"
      }
    },
    {
      "cell_type": "code",
      "source": [
        "!sudo update-alternatives --config python3"
      ],
      "metadata": {
        "id": "X1xBsoiNyPBu",
        "colab": {
          "base_uri": "https://localhost:8080/"
        },
        "outputId": "6fea4059-7b25-47a5-8f39-ca8ea39fa120"
      },
      "execution_count": 1,
      "outputs": [
        {
          "output_type": "stream",
          "name": "stdout",
          "text": [
            "There are 2 choices for the alternative python3 (providing /usr/bin/python3).\n",
            "\n",
            "  Selection    Path                Priority   Status\n",
            "------------------------------------------------------------\n",
            "* 0            /usr/bin/python3.8   2         auto mode\n",
            "  1            /usr/bin/python3.6   1         manual mode\n",
            "  2            /usr/bin/python3.8   2         manual mode\n",
            "\n",
            "Press <enter> to keep the current choice[*], or type selection number: 1\n",
            "update-alternatives: using /usr/bin/python3.6 to provide /usr/bin/python3 (python3) in manual mode\n"
          ]
        }
      ]
    },
    {
      "cell_type": "code",
      "source": [
        "!wget https://bootstrap.pypa.io/pip/3.6/get-pip.py\n",
        "!sudo python get-pip.py"
      ],
      "metadata": {
        "id": "OJ0LVVh60Ej2"
      },
      "execution_count": null,
      "outputs": []
    },
    {
      "cell_type": "code",
      "execution_count": null,
      "metadata": {
        "id": "fCNEJNTr1JzN"
      },
      "outputs": [],
      "source": [
        "!sudo pip uninstall arenets\n",
        "!sudo pip install git+https://github.com/nicolay-r/AREnets@0.23.0"
      ]
    },
    {
      "cell_type": "markdown",
      "source": [
        "## Download the code\n"
      ],
      "metadata": {
        "id": "ZzIIjAUslZbF"
      }
    },
    {
      "cell_type": "code",
      "source": [
        "%cd \"/content\"\n",
        "# clear prior local versions\n",
        "!rm ./*.py*\n",
        "!wget https://raw.githubusercontent.com/nicolay-r/AREnets/0.23.0/tutorials/nn_config.py\n",
        "!wget https://raw.githubusercontent.com/nicolay-r/AREnets/0.23.0/tutorials/predict.py\n",
        "!wget https://raw.githubusercontent.com/nicolay-r/AREnets/0.23.0/tutorials/train.py"
      ],
      "metadata": {
        "id": "3Tf9DjBQziNp"
      },
      "execution_count": null,
      "outputs": []
    },
    {
      "cell_type": "markdown",
      "source": [
        "## Download input samples"
      ],
      "metadata": {
        "id": "5DFxruKEn9fs"
      }
    },
    {
      "cell_type": "markdown",
      "source": [
        "Let's create folder for the data resources ..."
      ],
      "metadata": {
        "id": "f3GO9ztuBqUM"
      }
    },
    {
      "cell_type": "code",
      "source": [
        "!mkdir \"/content/_data\""
      ],
      "metadata": {
        "id": "9vw2MgNHBdSO"
      },
      "execution_count": 6,
      "outputs": []
    },
    {
      "cell_type": "markdown",
      "source": [
        "And then place example data in it ..."
      ],
      "metadata": {
        "id": "_6m1gQyiBwKF"
      }
    },
    {
      "cell_type": "code",
      "source": [
        "%cd \"/content/_data\"\n",
        "!rm *.jsonl*\n",
        "!rm *.tsv.gz*\n",
        "!wget https://raw.githubusercontent.com/nicolay-r/AREnets/0.23.0/tutorials/_data/sample-train.tsv.gz\n",
        "!wget https://raw.githubusercontent.com/nicolay-r/AREnets/0.23.0/tutorials/_data/sample-test.tsv.gz\n",
        "!wget https://raw.githubusercontent.com/nicolay-r/AREnets/0.23.0/tutorials/_data/sample-train.jsonl\n",
        "!wget https://raw.githubusercontent.com/nicolay-r/AREnets/0.23.0/tutorials/_data/sample-test.jsonl"
      ],
      "metadata": {
        "id": "_KMYt-B7oAf7",
        "colab": {
          "base_uri": "https://localhost:8080/"
        },
        "outputId": "55e95e00-511d-48f1-c365-ad350c60f86f"
      },
      "execution_count": 7,
      "outputs": [
        {
          "output_type": "stream",
          "name": "stdout",
          "text": [
            "/content/_data\n",
            "rm: cannot remove '*.jsonl*': No such file or directory\n",
            "rm: cannot remove '*.tsv.gz*': No such file or directory\n",
            "--2023-01-05 22:21:14--  https://raw.githubusercontent.com/nicolay-r/AREnets/0.23.0/tutorials/_data/sample-train.tsv.gz\n",
            "Resolving raw.githubusercontent.com (raw.githubusercontent.com)... 185.199.108.133, 185.199.109.133, 185.199.111.133, ...\n",
            "Connecting to raw.githubusercontent.com (raw.githubusercontent.com)|185.199.108.133|:443... connected.\n",
            "HTTP request sent, awaiting response... 200 OK\n",
            "Length: 4727 (4.6K) [application/octet-stream]\n",
            "Saving to: ‘sample-train.tsv.gz’\n",
            "\n",
            "sample-train.tsv.gz 100%[===================>]   4.62K  --.-KB/s    in 0s      \n",
            "\n",
            "2023-01-05 22:21:14 (71.1 MB/s) - ‘sample-train.tsv.gz’ saved [4727/4727]\n",
            "\n",
            "--2023-01-05 22:21:14--  https://raw.githubusercontent.com/nicolay-r/AREnets/0.23.0/tutorials/_data/sample-test.tsv.gz\n",
            "Resolving raw.githubusercontent.com (raw.githubusercontent.com)... 185.199.108.133, 185.199.109.133, 185.199.110.133, ...\n",
            "Connecting to raw.githubusercontent.com (raw.githubusercontent.com)|185.199.108.133|:443... connected.\n",
            "HTTP request sent, awaiting response... 200 OK\n",
            "Length: 3071 (3.0K) [application/octet-stream]\n",
            "Saving to: ‘sample-test.tsv.gz’\n",
            "\n",
            "sample-test.tsv.gz  100%[===================>]   3.00K  --.-KB/s    in 0s      \n",
            "\n",
            "2023-01-05 22:21:14 (59.3 MB/s) - ‘sample-test.tsv.gz’ saved [3071/3071]\n",
            "\n",
            "--2023-01-05 22:21:14--  https://raw.githubusercontent.com/nicolay-r/AREnets/0.23.0/tutorials/_data/sample-train.jsonl\n",
            "Resolving raw.githubusercontent.com (raw.githubusercontent.com)... 185.199.108.133, 185.199.109.133, 185.199.111.133, ...\n",
            "Connecting to raw.githubusercontent.com (raw.githubusercontent.com)|185.199.108.133|:443... connected.\n",
            "HTTP request sent, awaiting response... 200 OK\n",
            "Length: 36977 (36K) [text/plain]\n",
            "Saving to: ‘sample-train.jsonl’\n",
            "\n",
            "sample-train.jsonl  100%[===================>]  36.11K  --.-KB/s    in 0.002s  \n",
            "\n",
            "2023-01-05 22:21:15 (15.2 MB/s) - ‘sample-train.jsonl’ saved [36977/36977]\n",
            "\n",
            "--2023-01-05 22:21:15--  https://raw.githubusercontent.com/nicolay-r/AREnets/0.23.0/tutorials/_data/sample-test.jsonl\n",
            "Resolving raw.githubusercontent.com (raw.githubusercontent.com)... 185.199.108.133, 185.199.109.133, 185.199.110.133, ...\n",
            "Connecting to raw.githubusercontent.com (raw.githubusercontent.com)|185.199.108.133|:443... connected.\n",
            "HTTP request sent, awaiting response... 200 OK\n",
            "Length: 25907 (25K) [text/plain]\n",
            "Saving to: ‘sample-test.jsonl’\n",
            "\n",
            "sample-test.jsonl   100%[===================>]  25.30K  --.-KB/s    in 0.002s  \n",
            "\n",
            "2023-01-05 22:21:15 (13.6 MB/s) - ‘sample-test.jsonl’ saved [25907/25907]\n",
            "\n"
          ]
        }
      ]
    },
    {
      "cell_type": "markdown",
      "source": [
        "## Prepare embedding\n",
        "You can choose your one from the [following resource](http://vectors.nlpl.eu/repository/20/6.zip) for mostly any language you want."
      ],
      "metadata": {
        "id": "ia0ufIsKmw4q"
      }
    },
    {
      "cell_type": "code",
      "source": [
        "!wget http://vectors.nlpl.eu/repository/20/6.zip -P \"/content/_data\""
      ],
      "metadata": {
        "colab": {
          "base_uri": "https://localhost:8080/"
        },
        "id": "rrg-nobCmzEx",
        "outputId": "c5a99dc6-47d9-4a90-ab2c-8913a967701d"
      },
      "execution_count": 9,
      "outputs": [
        {
          "output_type": "stream",
          "name": "stdout",
          "text": [
            "--2023-01-05 22:23:39--  http://vectors.nlpl.eu/repository/20/6.zip\n",
            "Resolving vectors.nlpl.eu (vectors.nlpl.eu)... 129.240.189.181\n",
            "Connecting to vectors.nlpl.eu (vectors.nlpl.eu)|129.240.189.181|:80... connected.\n",
            "HTTP request sent, awaiting response... 200 OK\n",
            "Length: 635351287 (606M) [application/zip]\n",
            "Saving to: ‘/content/_data/6.zip’\n",
            "\n",
            "6.zip               100%[===================>] 605.92M  11.6MB/s    in 45s     \n",
            "\n",
            "2023-01-05 22:24:24 (13.5 MB/s) - ‘/content/_data/6.zip’ saved [635351287/635351287]\n",
            "\n"
          ]
        }
      ]
    },
    {
      "cell_type": "code",
      "source": [
        "%cd \"/content/_data\"\n",
        "!unzip *.zip"
      ],
      "metadata": {
        "colab": {
          "base_uri": "https://localhost:8080/"
        },
        "id": "q9eszW-Kntlu",
        "outputId": "4cd75e3f-000b-46e7-f7fb-af22a041f85d"
      },
      "execution_count": 10,
      "outputs": [
        {
          "output_type": "stream",
          "name": "stdout",
          "text": [
            "/content/_data\n",
            "Archive:  6.zip\n",
            "  inflating: meta.json               \n",
            "  inflating: model.bin               \n",
            "  inflating: model.txt               \n",
            "  inflating: README                  \n"
          ]
        }
      ]
    },
    {
      "cell_type": "markdown",
      "source": [
        "## Training\n",
        "\n",
        "Please, use files in order to open up `train.py` and customize training script for your needs."
      ],
      "metadata": {
        "id": "8pL6nnKeleez"
      }
    },
    {
      "cell_type": "code",
      "source": [
        "%cd \"/content\"\n",
        "!python train.py"
      ],
      "metadata": {
        "colab": {
          "base_uri": "https://localhost:8080/"
        },
        "id": "91CTslwoz-_W",
        "outputId": "b83f2ac2-3f45-4b8a-ea9e-0aae65528519"
      },
      "execution_count": 11,
      "outputs": [
        {
          "output_type": "stream",
          "name": "stdout",
          "text": [
            "/content\n",
            "/usr/local/lib/python3.6/dist-packages/tensorflow/python/framework/dtypes.py:516: FutureWarning: Passing (type, 1) or '1type' as a synonym of type is deprecated; in a future version of numpy, it will be understood as (type, (1,)) / '(1,)type'.\n",
            "  _np_qint8 = np.dtype([(\"qint8\", np.int8, 1)])\n",
            "/usr/local/lib/python3.6/dist-packages/tensorflow/python/framework/dtypes.py:517: FutureWarning: Passing (type, 1) or '1type' as a synonym of type is deprecated; in a future version of numpy, it will be understood as (type, (1,)) / '(1,)type'.\n",
            "  _np_quint8 = np.dtype([(\"quint8\", np.uint8, 1)])\n",
            "/usr/local/lib/python3.6/dist-packages/tensorflow/python/framework/dtypes.py:518: FutureWarning: Passing (type, 1) or '1type' as a synonym of type is deprecated; in a future version of numpy, it will be understood as (type, (1,)) / '(1,)type'.\n",
            "  _np_qint16 = np.dtype([(\"qint16\", np.int16, 1)])\n",
            "/usr/local/lib/python3.6/dist-packages/tensorflow/python/framework/dtypes.py:519: FutureWarning: Passing (type, 1) or '1type' as a synonym of type is deprecated; in a future version of numpy, it will be understood as (type, (1,)) / '(1,)type'.\n",
            "  _np_quint16 = np.dtype([(\"quint16\", np.uint16, 1)])\n",
            "/usr/local/lib/python3.6/dist-packages/tensorflow/python/framework/dtypes.py:520: FutureWarning: Passing (type, 1) or '1type' as a synonym of type is deprecated; in a future version of numpy, it will be understood as (type, (1,)) / '(1,)type'.\n",
            "  _np_qint32 = np.dtype([(\"qint32\", np.int32, 1)])\n",
            "/usr/local/lib/python3.6/dist-packages/tensorflow/python/framework/dtypes.py:525: FutureWarning: Passing (type, 1) or '1type' as a synonym of type is deprecated; in a future version of numpy, it will be understood as (type, (1,)) / '(1,)type'.\n",
            "  np_resource = np.dtype([(\"resource\", np.ubyte, 1)])\n",
            "/usr/local/lib/python3.6/dist-packages/tensorboard/compat/tensorflow_stub/dtypes.py:541: FutureWarning: Passing (type, 1) or '1type' as a synonym of type is deprecated; in a future version of numpy, it will be understood as (type, (1,)) / '(1,)type'.\n",
            "  _np_qint8 = np.dtype([(\"qint8\", np.int8, 1)])\n",
            "/usr/local/lib/python3.6/dist-packages/tensorboard/compat/tensorflow_stub/dtypes.py:542: FutureWarning: Passing (type, 1) or '1type' as a synonym of type is deprecated; in a future version of numpy, it will be understood as (type, (1,)) / '(1,)type'.\n",
            "  _np_quint8 = np.dtype([(\"quint8\", np.uint8, 1)])\n",
            "/usr/local/lib/python3.6/dist-packages/tensorboard/compat/tensorflow_stub/dtypes.py:543: FutureWarning: Passing (type, 1) or '1type' as a synonym of type is deprecated; in a future version of numpy, it will be understood as (type, (1,)) / '(1,)type'.\n",
            "  _np_qint16 = np.dtype([(\"qint16\", np.int16, 1)])\n",
            "/usr/local/lib/python3.6/dist-packages/tensorboard/compat/tensorflow_stub/dtypes.py:544: FutureWarning: Passing (type, 1) or '1type' as a synonym of type is deprecated; in a future version of numpy, it will be understood as (type, (1,)) / '(1,)type'.\n",
            "  _np_quint16 = np.dtype([(\"quint16\", np.uint16, 1)])\n",
            "/usr/local/lib/python3.6/dist-packages/tensorboard/compat/tensorflow_stub/dtypes.py:545: FutureWarning: Passing (type, 1) or '1type' as a synonym of type is deprecated; in a future version of numpy, it will be understood as (type, (1,)) / '(1,)type'.\n",
            "  _np_qint32 = np.dtype([(\"qint32\", np.int32, 1)])\n",
            "/usr/local/lib/python3.6/dist-packages/tensorboard/compat/tensorflow_stub/dtypes.py:550: FutureWarning: Passing (type, 1) or '1type' as a synonym of type is deprecated; in a future version of numpy, it will be understood as (type, (1,)) / '(1,)type'.\n",
            "  np_resource = np.dtype([(\"resource\", np.ubyte, 1)])\n",
            "WARNING:tensorflow:From /usr/local/lib/python3.6/dist-packages/tensorflow/python/ops/init_ops.py:1288: calling VarianceScaling.__init__ (from tensorflow.python.ops.init_ops) with dtype is deprecated and will be removed in a future version.\n",
            "Instructions for updating:\n",
            "Call initializer instance with the dtype argument instead of passing it to the constructor\n",
            "WARNING:tensorflow:From /usr/local/lib/python3.6/dist-packages/tensorflow/python/ops/init_ops.py:1288: calling VarianceScaling.__init__ (from tensorflow.python.ops.init_ops) with dtype is deprecated and will be removed in a future version.\n",
            "Instructions for updating:\n",
            "Call initializer instance with the dtype argument instead of passing it to the constructor\n",
            "INFO:arenets.arekit.contrib.utils.io_utils.utils:Check existence [False]: _data/vocab.txt\n",
            "INFO:arenets.arekit.contrib.utils.io_utils.utils:Check existence [False]: _data/term_embedding.npz\n",
            "INFO:arenets.emb_converter:Converting original text-based embedding: _data/model.txt\n",
            "100%|█████████████████████████████████████████████████████████████████████| 302867/302867 [00:25<00:00, 11754.52words/s]\n",
            "INFO:arenets.arekit.contrib.utils.np_utils.vocab:Saving vocabulary [size=302866]: _data/vocab.txt\n",
            "INFO:arenets.arekit.contrib.utils.np_utils.embedding:Saving embedding [size=(302866, 300)]: _data/term_embedding.npz\n",
            "WARNING:tensorflow:\n",
            "The TensorFlow contrib module will not be included in TensorFlow 2.0.\n",
            "For more information, please see:\n",
            "  * https://github.com/tensorflow/community/blob/master/rfcs/20180907-contrib-sunset.md\n",
            "  * https://github.com/tensorflow/addons\n",
            "  * https://github.com/tensorflow/io (for I/O related ops)\n",
            "If you depend on functionality not listed there, please file an issue.\n",
            "\n",
            "WARNING:tensorflow:\n",
            "The TensorFlow contrib module will not be included in TensorFlow 2.0.\n",
            "For more information, please see:\n",
            "  * https://github.com/tensorflow/community/blob/master/rfcs/20180907-contrib-sunset.md\n",
            "  * https://github.com/tensorflow/addons\n",
            "  * https://github.com/tensorflow/io (for I/O related ops)\n",
            "If you depend on functionality not listed there, please file an issue.\n",
            "\n",
            "INFO:tensorflow:Scale of 0 disables regularizer.\n",
            "INFO:tensorflow:Scale of 0 disables regularizer.\n",
            "WARNING:tensorflow:From /usr/local/lib/python3.6/dist-packages/arenets/context/configurations/base/base.py:190: calling Zeros.__init__ (from tensorflow.python.ops.init_ops) with dtype is deprecated and will be removed in a future version.\n",
            "Instructions for updating:\n",
            "Call initializer instance with the dtype argument instead of passing it to the constructor\n",
            "WARNING:tensorflow:From /usr/local/lib/python3.6/dist-packages/arenets/context/configurations/base/base.py:190: calling Zeros.__init__ (from tensorflow.python.ops.init_ops) with dtype is deprecated and will be removed in a future version.\n",
            "Instructions for updating:\n",
            "Call initializer instance with the dtype argument instead of passing it to the constructor\n",
            "INFO:arenets.arekit.contrib.utils.io_utils.utils:Check existence [True]: _data/sample-train.jsonl\n",
            "INFO:arenets.arekit.contrib.utils.io_utils.utils:Check existence [True]: _data/vocab.txt\n",
            "INFO:arenets.arekit.contrib.utils.io_utils.utils:Check existence [True]: _data/term_embedding.npz\n",
            "INFO:arenets.arekit.contrib.utils.np_utils.embedding:Embedding read [size=(302866, 300)]: _data/term_embedding.npz\n",
            "INFO:arenets.arekit.contrib.utils.np_utils.vocab:Loading vocabulary [size=302866]: _data/vocab.txt\n",
            "Filling bags collection [DataType.Train]: 100it [00:00, 4594.03it/s]\n",
            "WARNING:tensorflow:From /usr/local/lib/python3.6/dist-packages/arenets/context/architectures/base/base.py:343: calling dropout (from tensorflow.python.ops.nn_ops) with keep_prob is deprecated and will be removed in a future version.\n",
            "Instructions for updating:\n",
            "Please use `rate` instead of `keep_prob`. Rate should be set to `rate = 1 - keep_prob`.\n",
            "WARNING:tensorflow:From /usr/local/lib/python3.6/dist-packages/arenets/context/architectures/base/base.py:343: calling dropout (from tensorflow.python.ops.nn_ops) with keep_prob is deprecated and will be removed in a future version.\n",
            "Instructions for updating:\n",
            "Please use `rate` instead of `keep_prob`. Rate should be set to `rate = 1 - keep_prob`.\n",
            "WARNING:tensorflow:From /usr/local/lib/python3.6/dist-packages/tensorflow/python/util/deprecation.py:574: calling conv1d (from tensorflow.python.ops.nn_ops) with data_format=NHWC is deprecated and will be removed in a future version.\n",
            "Instructions for updating:\n",
            "`NHWC` for data_format is deprecated, use `NWC` instead\n",
            "WARNING:tensorflow:From /usr/local/lib/python3.6/dist-packages/tensorflow/python/util/deprecation.py:574: calling conv1d (from tensorflow.python.ops.nn_ops) with data_format=NHWC is deprecated and will be removed in a future version.\n",
            "Instructions for updating:\n",
            "`NHWC` for data_format is deprecated, use `NWC` instead\n",
            "WARNING:tensorflow:From /usr/local/lib/python3.6/dist-packages/arenets/context/architectures/cnn.py:59: The name tf.nn.max_pool is deprecated. Please use tf.nn.max_pool2d instead.\n",
            "\n",
            "WARNING:tensorflow:From /usr/local/lib/python3.6/dist-packages/arenets/context/architectures/cnn.py:59: The name tf.nn.max_pool is deprecated. Please use tf.nn.max_pool2d instead.\n",
            "\n",
            "INFO:arenets.core.model:Minibatches passing per epoch count: ~3 (Might be greater or equal, as the last bag is expanded)\n",
            "Training [DataType.Train]: 4mbs [00:04,  1.03s/mbs]\n",
            "INFO:arenets.core.callback.stat:2023-01-05 22:25:54.568331: Epoch: 1: avg_loss: 54.388, avg_acc: 0.547\n",
            "INFO:arenets.tf_helpers.nn_states:Update TensorFlow model state: _data/cnn/cnn\n",
            "INFO:arenets.core.model:Minibatches passing per epoch count: ~3 (Might be greater or equal, as the last bag is expanded)\n",
            "Training [DataType.Train]: 4mbs [00:00,  8.74mbs/s]\n",
            "INFO:arenets.core.callback.stat:2023-01-05 22:25:55.086701: Epoch: 2: avg_loss: 44.787, avg_acc: 0.633\n",
            "INFO:arenets.tf_helpers.nn_states:Update TensorFlow model state: _data/cnn/cnn\n",
            "INFO:arenets.core.model:Minibatches passing per epoch count: ~3 (Might be greater or equal, as the last bag is expanded)\n",
            "Training [DataType.Train]: 4mbs [00:00,  8.99mbs/s]\n",
            "INFO:arenets.core.callback.stat:2023-01-05 22:25:55.544197: Epoch: 3: avg_loss: 38.608, avg_acc: 0.633\n",
            "INFO:arenets.tf_helpers.nn_states:Update TensorFlow model state: _data/cnn/cnn\n",
            "INFO:arenets.core.model:Minibatches passing per epoch count: ~3 (Might be greater or equal, as the last bag is expanded)\n",
            "Training [DataType.Train]: 4mbs [00:00,  9.65mbs/s]\n",
            "INFO:arenets.core.callback.stat:2023-01-05 22:25:55.968446: Epoch: 4: avg_loss: 34.791, avg_acc: 0.648\n",
            "INFO:arenets.tf_helpers.nn_states:Update TensorFlow model state: _data/cnn/cnn\n",
            "INFO:arenets.core.model:Minibatches passing per epoch count: ~3 (Might be greater or equal, as the last bag is expanded)\n",
            "Training [DataType.Train]: 4mbs [00:00,  9.11mbs/s]\n",
            "INFO:arenets.core.callback.stat:2023-01-05 22:25:56.418508: Epoch: 5: avg_loss: 32.82, avg_acc: 0.656\n",
            "INFO:arenets.tf_helpers.nn_states:Update TensorFlow model state: _data/cnn/cnn\n",
            "INFO:arenets.core.model:Minibatches passing per epoch count: ~3 (Might be greater or equal, as the last bag is expanded)\n",
            "Training [DataType.Train]: 4mbs [00:00,  9.46mbs/s]\n",
            "INFO:arenets.core.callback.stat:2023-01-05 22:25:56.852605: Epoch: 6: avg_loss: 30.564, avg_acc: 0.672\n",
            "INFO:arenets.tf_helpers.nn_states:Update TensorFlow model state: _data/cnn/cnn\n",
            "INFO:arenets.core.model:Minibatches passing per epoch count: ~3 (Might be greater or equal, as the last bag is expanded)\n",
            "Training [DataType.Train]: 4mbs [00:00,  9.46mbs/s]\n",
            "INFO:arenets.core.callback.stat:2023-01-05 22:25:57.286068: Epoch: 7: avg_loss: 33.254, avg_acc: 0.609\n",
            "INFO:arenets.tf_helpers.nn_states:Update TensorFlow model state: _data/cnn/cnn\n",
            "INFO:arenets.core.model:Minibatches passing per epoch count: ~3 (Might be greater or equal, as the last bag is expanded)\n",
            "Training [DataType.Train]: 4mbs [00:00,  8.05mbs/s]\n",
            "INFO:arenets.core.callback.stat:2023-01-05 22:25:57.792840: Epoch: 8: avg_loss: 28.717, avg_acc: 0.625\n",
            "INFO:arenets.tf_helpers.nn_states:Update TensorFlow model state: _data/cnn/cnn\n",
            "INFO:arenets.core.model:Minibatches passing per epoch count: ~3 (Might be greater or equal, as the last bag is expanded)\n",
            "Training [DataType.Train]: 4mbs [00:00,  9.01mbs/s]\n",
            "INFO:arenets.core.callback.stat:2023-01-05 22:25:58.247980: Epoch: 9: avg_loss: 28.097, avg_acc: 0.688\n",
            "INFO:arenets.tf_helpers.nn_states:Update TensorFlow model state: _data/cnn/cnn\n",
            "INFO:arenets.core.model:Minibatches passing per epoch count: ~3 (Might be greater or equal, as the last bag is expanded)\n",
            "Training [DataType.Train]: 4mbs [00:00,  9.42mbs/s]\n",
            "INFO:arenets.core.callback.stat:2023-01-05 22:25:58.683856: Epoch: 10: avg_loss: 25.799, avg_acc: 0.672\n",
            "INFO:arenets.tf_helpers.nn_states:Update TensorFlow model state: _data/cnn/cnn\n",
            "INFO:arenets.core.model:Minibatches passing per epoch count: ~3 (Might be greater or equal, as the last bag is expanded)\n",
            "Training [DataType.Train]: 4mbs [00:00,  9.43mbs/s]\n",
            "INFO:arenets.core.callback.stat:2023-01-05 22:25:59.119795: Epoch: 11: avg_loss: 22.115, avg_acc: 0.766\n",
            "INFO:arenets.tf_helpers.nn_states:Update TensorFlow model state: _data/cnn/cnn\n",
            "INFO:arenets.core.model:Minibatches passing per epoch count: ~3 (Might be greater or equal, as the last bag is expanded)\n",
            "Training [DataType.Train]: 4mbs [00:00,  9.03mbs/s]\n",
            "INFO:arenets.core.callback.stat:2023-01-05 22:25:59.576813: Epoch: 12: avg_loss: 20.907, avg_acc: 0.797\n",
            "INFO:arenets.tf_helpers.nn_states:Update TensorFlow model state: _data/cnn/cnn\n",
            "INFO:arenets.core.model:Minibatches passing per epoch count: ~3 (Might be greater or equal, as the last bag is expanded)\n",
            "Training [DataType.Train]: 4mbs [00:00,  9.44mbs/s]\n",
            "INFO:arenets.core.callback.stat:2023-01-05 22:26:00.011904: Epoch: 13: avg_loss: 19.777, avg_acc: 0.852\n",
            "INFO:arenets.tf_helpers.nn_states:Update TensorFlow model state: _data/cnn/cnn\n",
            "INFO:arenets.core.model:Minibatches passing per epoch count: ~3 (Might be greater or equal, as the last bag is expanded)\n",
            "Training [DataType.Train]: 4mbs [00:00,  9.28mbs/s]\n",
            "INFO:arenets.core.callback.stat:2023-01-05 22:26:00.454120: Epoch: 14: avg_loss: 18.539, avg_acc: 0.93\n",
            "INFO:arenets.tf_helpers.nn_states:Update TensorFlow model state: _data/cnn/cnn\n",
            "INFO:arenets.core.model:Minibatches passing per epoch count: ~3 (Might be greater or equal, as the last bag is expanded)\n",
            "Training [DataType.Train]: 4mbs [00:00,  9.71mbs/s]                                                                     \n",
            "INFO:arenets.core.callback.stat:2023-01-05 22:26:00.875880: Epoch: 15: avg_loss: 16.769, avg_acc: 0.953\n",
            "INFO:arenets.tf_helpers.nn_states:Update TensorFlow model state: _data/cnn/cnn\n",
            "INFO:arenets.core.model:Minibatches passing per epoch count: ~3 (Might be greater or equal, as the last bag is expanded)\n",
            "Training [DataType.Train]: 4mbs [00:00,  9.09mbs/s]\n",
            "INFO:arenets.core.callback.stat:2023-01-05 22:26:01.326521: Epoch: 16: avg_loss: 14.422, avg_acc: 0.961\n",
            "INFO:arenets.tf_helpers.nn_states:Update TensorFlow model state: _data/cnn/cnn\n",
            "INFO:arenets.core.model:Minibatches passing per epoch count: ~3 (Might be greater or equal, as the last bag is expanded)\n",
            "Training [DataType.Train]: 4mbs [00:00,  9.27mbs/s]\n",
            "INFO:arenets.core.callback.stat:2023-01-05 22:26:01.770291: Epoch: 17: avg_loss: 12.103, avg_acc: 0.984\n",
            "INFO:arenets.tf_helpers.nn_states:Update TensorFlow model state: _data/cnn/cnn\n",
            "INFO:arenets.core.model:Minibatches passing per epoch count: ~3 (Might be greater or equal, as the last bag is expanded)\n",
            "Training [DataType.Train]: 4mbs [00:00,  9.20mbs/s]\n",
            "INFO:arenets.core.callback.stat:2023-01-05 22:26:02.216329: Epoch: 18: avg_loss: 10.972, avg_acc: 0.992\n",
            "INFO:arenets.tf_helpers.nn_states:Update TensorFlow model state: _data/cnn/cnn\n",
            "INFO:arenets.core.model:Minibatches passing per epoch count: ~3 (Might be greater or equal, as the last bag is expanded)\n",
            "Training [DataType.Train]: 4mbs [00:00,  8.45mbs/s]\n",
            "INFO:arenets.core.callback.stat:2023-01-05 22:26:02.701525: Epoch: 19: avg_loss: 10.238, avg_acc: 0.984\n",
            "INFO:arenets.tf_helpers.nn_states:Update TensorFlow model state: _data/cnn/cnn\n",
            "INFO:arenets.core.model:Minibatches passing per epoch count: ~3 (Might be greater or equal, as the last bag is expanded)\n",
            "Training [DataType.Train]: 4mbs [00:00,  8.88mbs/s]\n",
            "INFO:arenets.core.callback.train_limiter:Stop Training Process: avg_fit_acc > 1.0\n",
            "INFO:arenets.core.callback.stat:2023-01-05 22:26:03.163264: Epoch: 20: avg_loss: 9.038, avg_acc: 1.0\n",
            "INFO:arenets.tf_helpers.nn_states:Update TensorFlow model state: _data/cnn/cnn\n"
          ]
        }
      ]
    },
    {
      "cell_type": "markdown",
      "source": [
        "## Predict\n",
        "\n",
        "Please, use files in order to open up `predict.py` and customize prediction script for your needs.\n"
      ],
      "metadata": {
        "id": "jwPyLMzPmZlX"
      }
    },
    {
      "cell_type": "code",
      "source": [
        "%cd \"/content\"\n",
        "!python predict.py"
      ],
      "metadata": {
        "colab": {
          "base_uri": "https://localhost:8080/"
        },
        "id": "AtDHlgDv0CHe",
        "outputId": "a14c6a47-7899-4a60-e346-ea0f3d51f7ab"
      },
      "execution_count": 12,
      "outputs": [
        {
          "output_type": "stream",
          "name": "stdout",
          "text": [
            "/content\n",
            "/usr/local/lib/python3.6/dist-packages/tensorflow/python/framework/dtypes.py:516: FutureWarning: Passing (type, 1) or '1type' as a synonym of type is deprecated; in a future version of numpy, it will be understood as (type, (1,)) / '(1,)type'.\n",
            "  _np_qint8 = np.dtype([(\"qint8\", np.int8, 1)])\n",
            "/usr/local/lib/python3.6/dist-packages/tensorflow/python/framework/dtypes.py:517: FutureWarning: Passing (type, 1) or '1type' as a synonym of type is deprecated; in a future version of numpy, it will be understood as (type, (1,)) / '(1,)type'.\n",
            "  _np_quint8 = np.dtype([(\"quint8\", np.uint8, 1)])\n",
            "/usr/local/lib/python3.6/dist-packages/tensorflow/python/framework/dtypes.py:518: FutureWarning: Passing (type, 1) or '1type' as a synonym of type is deprecated; in a future version of numpy, it will be understood as (type, (1,)) / '(1,)type'.\n",
            "  _np_qint16 = np.dtype([(\"qint16\", np.int16, 1)])\n",
            "/usr/local/lib/python3.6/dist-packages/tensorflow/python/framework/dtypes.py:519: FutureWarning: Passing (type, 1) or '1type' as a synonym of type is deprecated; in a future version of numpy, it will be understood as (type, (1,)) / '(1,)type'.\n",
            "  _np_quint16 = np.dtype([(\"quint16\", np.uint16, 1)])\n",
            "/usr/local/lib/python3.6/dist-packages/tensorflow/python/framework/dtypes.py:520: FutureWarning: Passing (type, 1) or '1type' as a synonym of type is deprecated; in a future version of numpy, it will be understood as (type, (1,)) / '(1,)type'.\n",
            "  _np_qint32 = np.dtype([(\"qint32\", np.int32, 1)])\n",
            "/usr/local/lib/python3.6/dist-packages/tensorflow/python/framework/dtypes.py:525: FutureWarning: Passing (type, 1) or '1type' as a synonym of type is deprecated; in a future version of numpy, it will be understood as (type, (1,)) / '(1,)type'.\n",
            "  np_resource = np.dtype([(\"resource\", np.ubyte, 1)])\n",
            "/usr/local/lib/python3.6/dist-packages/tensorboard/compat/tensorflow_stub/dtypes.py:541: FutureWarning: Passing (type, 1) or '1type' as a synonym of type is deprecated; in a future version of numpy, it will be understood as (type, (1,)) / '(1,)type'.\n",
            "  _np_qint8 = np.dtype([(\"qint8\", np.int8, 1)])\n",
            "/usr/local/lib/python3.6/dist-packages/tensorboard/compat/tensorflow_stub/dtypes.py:542: FutureWarning: Passing (type, 1) or '1type' as a synonym of type is deprecated; in a future version of numpy, it will be understood as (type, (1,)) / '(1,)type'.\n",
            "  _np_quint8 = np.dtype([(\"quint8\", np.uint8, 1)])\n",
            "/usr/local/lib/python3.6/dist-packages/tensorboard/compat/tensorflow_stub/dtypes.py:543: FutureWarning: Passing (type, 1) or '1type' as a synonym of type is deprecated; in a future version of numpy, it will be understood as (type, (1,)) / '(1,)type'.\n",
            "  _np_qint16 = np.dtype([(\"qint16\", np.int16, 1)])\n",
            "/usr/local/lib/python3.6/dist-packages/tensorboard/compat/tensorflow_stub/dtypes.py:544: FutureWarning: Passing (type, 1) or '1type' as a synonym of type is deprecated; in a future version of numpy, it will be understood as (type, (1,)) / '(1,)type'.\n",
            "  _np_quint16 = np.dtype([(\"quint16\", np.uint16, 1)])\n",
            "/usr/local/lib/python3.6/dist-packages/tensorboard/compat/tensorflow_stub/dtypes.py:545: FutureWarning: Passing (type, 1) or '1type' as a synonym of type is deprecated; in a future version of numpy, it will be understood as (type, (1,)) / '(1,)type'.\n",
            "  _np_qint32 = np.dtype([(\"qint32\", np.int32, 1)])\n",
            "/usr/local/lib/python3.6/dist-packages/tensorboard/compat/tensorflow_stub/dtypes.py:550: FutureWarning: Passing (type, 1) or '1type' as a synonym of type is deprecated; in a future version of numpy, it will be understood as (type, (1,)) / '(1,)type'.\n",
            "  np_resource = np.dtype([(\"resource\", np.ubyte, 1)])\n",
            "WARNING:tensorflow:From /usr/local/lib/python3.6/dist-packages/tensorflow/python/ops/init_ops.py:1288: calling VarianceScaling.__init__ (from tensorflow.python.ops.init_ops) with dtype is deprecated and will be removed in a future version.\n",
            "Instructions for updating:\n",
            "Call initializer instance with the dtype argument instead of passing it to the constructor\n",
            "INFO:arenets.arekit.contrib.utils.io_utils.utils:Check existence [True]: _data/vocab.txt\n",
            "INFO:arenets.arekit.contrib.utils.io_utils.utils:Check existence [True]: _data/term_embedding.npz\n",
            "INFO:arenets.arekit.contrib.utils.np_utils.embedding:Embedding read [size=(302866, 300)]: _data/term_embedding.npz\n",
            "INFO:arenets.arekit.contrib.utils.np_utils.vocab:Loading vocabulary [size=302866]: _data/vocab.txt\n",
            "Filling bags collection [DataType.Test]: 64it [00:00, 4152.26it/s]\n",
            "WARNING:tensorflow:From /usr/local/lib/python3.6/dist-packages/arenets/context/architectures/base/base.py:343: calling dropout (from tensorflow.python.ops.nn_ops) with keep_prob is deprecated and will be removed in a future version.\n",
            "Instructions for updating:\n",
            "Please use `rate` instead of `keep_prob`. Rate should be set to `rate = 1 - keep_prob`.\n",
            "WARNING:tensorflow:From /usr/local/lib/python3.6/dist-packages/tensorflow/python/util/deprecation.py:574: calling conv1d (from tensorflow.python.ops.nn_ops) with data_format=NHWC is deprecated and will be removed in a future version.\n",
            "Instructions for updating:\n",
            "`NHWC` for data_format is deprecated, use `NWC` instead\n",
            "WARNING:tensorflow:From /usr/local/lib/python3.6/dist-packages/arenets/context/architectures/cnn.py:59: The name tf.nn.max_pool is deprecated. Please use tf.nn.max_pool2d instead.\n",
            "\n",
            "2023-01-05 22:26:18.913082: I tensorflow/core/platform/cpu_feature_guard.cc:142] Your CPU supports instructions that this TensorFlow binary was not compiled to use: AVX2 FMA\n",
            "2023-01-05 22:26:18.917969: I tensorflow/stream_executor/platform/default/dso_loader.cc:42] Successfully opened dynamic library libcuda.so.1\n",
            "2023-01-05 22:26:19.678117: I tensorflow/stream_executor/cuda/cuda_gpu_executor.cc:1005] successful NUMA node read from SysFS had negative value (-1), but there must be at least one NUMA node, so returning NUMA node zero\n",
            "2023-01-05 22:26:19.678895: I tensorflow/compiler/xla/service/service.cc:168] XLA service 0x2be8e00 executing computations on platform CUDA. Devices:\n",
            "2023-01-05 22:26:19.678928: I tensorflow/compiler/xla/service/service.cc:175]   StreamExecutor device (0): Tesla T4, Compute Capability 7.5\n",
            "2023-01-05 22:26:19.680657: I tensorflow/core/platform/profile_utils/cpu_utils.cc:94] CPU Frequency: 2199995000 Hz\n",
            "2023-01-05 22:26:19.680896: I tensorflow/compiler/xla/service/service.cc:168] XLA service 0x2be9a40 executing computations on platform Host. Devices:\n",
            "2023-01-05 22:26:19.680930: I tensorflow/compiler/xla/service/service.cc:175]   StreamExecutor device (0): <undefined>, <undefined>\n",
            "2023-01-05 22:26:19.681085: I tensorflow/stream_executor/cuda/cuda_gpu_executor.cc:1005] successful NUMA node read from SysFS had negative value (-1), but there must be at least one NUMA node, so returning NUMA node zero\n",
            "2023-01-05 22:26:19.681675: I tensorflow/core/common_runtime/gpu/gpu_device.cc:1640] Found device 0 with properties: \n",
            "name: Tesla T4 major: 7 minor: 5 memoryClockRate(GHz): 1.59\n",
            "pciBusID: 0000:00:04.0\n",
            "2023-01-05 22:26:19.681798: I tensorflow/stream_executor/platform/default/dso_loader.cc:53] Could not dlopen library 'libcudart.so.10.0'; dlerror: libcudart.so.10.0: cannot open shared object file: No such file or directory; LD_LIBRARY_PATH: /usr/lib64-nvidia\n",
            "2023-01-05 22:26:19.681877: I tensorflow/stream_executor/platform/default/dso_loader.cc:53] Could not dlopen library 'libcublas.so.10.0'; dlerror: libcublas.so.10.0: cannot open shared object file: No such file or directory; LD_LIBRARY_PATH: /usr/lib64-nvidia\n",
            "2023-01-05 22:26:19.681948: I tensorflow/stream_executor/platform/default/dso_loader.cc:53] Could not dlopen library 'libcufft.so.10.0'; dlerror: libcufft.so.10.0: cannot open shared object file: No such file or directory; LD_LIBRARY_PATH: /usr/lib64-nvidia\n",
            "2023-01-05 22:26:19.682023: I tensorflow/stream_executor/platform/default/dso_loader.cc:53] Could not dlopen library 'libcurand.so.10.0'; dlerror: libcurand.so.10.0: cannot open shared object file: No such file or directory; LD_LIBRARY_PATH: /usr/lib64-nvidia\n",
            "2023-01-05 22:26:19.682092: I tensorflow/stream_executor/platform/default/dso_loader.cc:53] Could not dlopen library 'libcusolver.so.10.0'; dlerror: libcusolver.so.10.0: cannot open shared object file: No such file or directory; LD_LIBRARY_PATH: /usr/lib64-nvidia\n",
            "2023-01-05 22:26:19.682165: I tensorflow/stream_executor/platform/default/dso_loader.cc:53] Could not dlopen library 'libcusparse.so.10.0'; dlerror: libcusparse.so.10.0: cannot open shared object file: No such file or directory; LD_LIBRARY_PATH: /usr/lib64-nvidia\n",
            "2023-01-05 22:26:19.682237: I tensorflow/stream_executor/platform/default/dso_loader.cc:53] Could not dlopen library 'libcudnn.so.7'; dlerror: libcudnn.so.7: cannot open shared object file: No such file or directory; LD_LIBRARY_PATH: /usr/lib64-nvidia\n",
            "2023-01-05 22:26:19.682255: W tensorflow/core/common_runtime/gpu/gpu_device.cc:1663] Cannot dlopen some GPU libraries. Skipping registering GPU devices...\n",
            "2023-01-05 22:26:19.682292: I tensorflow/core/common_runtime/gpu/gpu_device.cc:1181] Device interconnect StreamExecutor with strength 1 edge matrix:\n",
            "2023-01-05 22:26:19.682308: I tensorflow/core/common_runtime/gpu/gpu_device.cc:1187]      0 \n",
            "2023-01-05 22:26:19.682321: I tensorflow/core/common_runtime/gpu/gpu_device.cc:1200] 0:   N \n",
            "2023-01-05 22:26:19.699875: W tensorflow/compiler/jit/mark_for_compilation_pass.cc:1412] (One-time warning): Not using XLA:CPU for cluster because envvar TF_XLA_FLAGS=--tf_xla_cpu_global_jit was not set.  If you want XLA:CPU, either set that envvar, or use experimental_jit_scope to enable XLA:CPU.  To confirm that XLA is active, pass --vmodule=xla_compilation_cache=1 (as a proper command-line flag, not via TF_XLA_FLAGS) or set the envvar XLA_FLAGS=--xla_hlo_profile.\n",
            "INFO:arenets.tf_helpers.nn_states:----------------------------------\n",
            "INFO:arenets.tf_helpers.nn_states:Loading Tensorflow model state: _data/cnn/\n",
            "INFO:arenets.tf_helpers.nn_states:----------------------------------\n",
            "WARNING:tensorflow:From /usr/local/lib/python3.6/dist-packages/tensorflow/python/training/saver.py:1276: checkpoint_exists (from tensorflow.python.training.checkpoint_management) is deprecated and will be removed in a future version.\n",
            "Instructions for updating:\n",
            "Use standard file APIs to check for files with this prefix.\n",
            "INFO:tensorflow:Restoring parameters from _data/cnn/cnn\n",
            "INFO:arenets.core.model:Minibatches passing per epoch count: ~2 (Might be greater or equal, as the last bag is expanded)\n",
            "Predict [DataType.Test]:   0%|                                                                   | 0/2 [00:00<?, ?mbs/s]2023-01-05 22:26:19.738084: W tensorflow/core/framework/allocator.cc:107] Allocation of 363439200 exceeds 10% of system memory.\n",
            "2023-01-05 22:26:19.819135: W tensorflow/core/framework/allocator.cc:107] Allocation of 363439200 exceeds 10% of system memory.\n",
            "2023-01-05 22:26:19.902876: W tensorflow/core/framework/allocator.cc:107] Allocation of 363439200 exceeds 10% of system memory.\n",
            "2023-01-05 22:26:20.137847: W tensorflow/core/framework/allocator.cc:107] Allocation of 363439200 exceeds 10% of system memory.\n",
            "2023-01-05 22:26:20.221378: W tensorflow/core/framework/allocator.cc:107] Allocation of 363439200 exceeds 10% of system memory.\n",
            "Predict [DataType.Test]: 3mbs [00:02,  1.02mbs/s]                                                                       \n",
            "INFO:arenets.np_utils.writer:Save: _data/cnn/hidden/hparams_C\n",
            "INFO:arenets.np_utils.writer:Save: _data/cnn/hidden/hparams_W\n",
            "INFO:arenets.np_utils.writer:Save: _data/cnn/hidden/hparams_b\n",
            "INFO:arenets.np_utils.writer:Save: _data/cnn/hidden/hparams_W2\n",
            "INFO:arenets.np_utils.writer:Save: _data/cnn/hidden/hparams_b2\n",
            "INFO:arenets.np_utils.writer:Save: _data/cnn/hidden/idparams_x-DataType.Test\n",
            "INFO:arenets.np_utils.writer:Save: _data/cnn/hidden/idparams_obj_ind-DataType.Test\n",
            "INFO:arenets.np_utils.writer:Save: _data/cnn/hidden/idparams_subj_ind-DataType.Test\n",
            "INFO:arenets.np_utils.writer:Save: _data/cnn/hidden/idparams_frame_inds-DataType.Test\n",
            "INFO:arenets.np_utils.writer:Save: _data/cnn/hidden/idparams_frame_connotation_inds-DataType.Test\n",
            "INFO:arenets.np_utils.writer:Save: _data/cnn/hidden/idparams_y_labels-DataType.Test\n",
            "INFO:arenets.np_utils.writer:Save: _data/cnn/hidden/idparams_y_scaled_logits-DataType.Test\n",
            "INFO:arenets.np_utils.writer:Save: _data/cnn/hidden/idparams_y_etalon_labels-DataType.Test\n",
            "Writing output: 64rows [00:00, 157532.54rows/s]\n"
          ]
        }
      ]
    }
  ]
}